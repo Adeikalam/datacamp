{
 "cells": [
  {
   "cell_type": "code",
   "execution_count": 0,
   "metadata": {
    "colab": {},
    "colab_type": "code",
    "id": "KW9g-Yb83vZu"
   },
   "outputs": [],
   "source": [
    "\n"
   ]
  },
  {
   "cell_type": "code",
   "execution_count": 0,
   "metadata": {
    "colab": {},
    "colab_type": "code",
    "id": "M9yTsNUe1T0Q"
   },
   "outputs": [],
   "source": []
  },
  {
   "cell_type": "code",
   "execution_count": 5,
   "metadata": {
    "colab": {
     "base_uri": "https://localhost:8080/",
     "height": 122
    },
    "colab_type": "code",
    "executionInfo": {
     "elapsed": 29670,
     "status": "ok",
     "timestamp": 1575059044496,
     "user": {
      "displayName": "Pierre Adeikalam",
      "photoUrl": "https://lh5.googleusercontent.com/-ajsLuZ1nxZ0/AAAAAAAAAAI/AAAAAAAAAkg/mDSbWKpnT8s/s64/photo.jpg",
      "userId": "13583412382080420095"
     },
     "user_tz": -60
    },
    "id": "hjsYZtMn7DWN",
    "outputId": "819e58b1-a27c-429d-923b-9f031d3adaa1"
   },
   "outputs": [
    {
     "name": "stdout",
     "output_type": "stream",
     "text": [
      "Go to this URL in a browser: https://accounts.google.com/o/oauth2/auth?client_id=947318989803-6bn6qk8qdgf4n4g3pfee6491hc0brc4i.apps.googleusercontent.com&redirect_uri=urn%3aietf%3awg%3aoauth%3a2.0%3aoob&response_type=code&scope=email%20https%3a%2f%2fwww.googleapis.com%2fauth%2fdocs.test%20https%3a%2f%2fwww.googleapis.com%2fauth%2fdrive%20https%3a%2f%2fwww.googleapis.com%2fauth%2fdrive.photos.readonly%20https%3a%2f%2fwww.googleapis.com%2fauth%2fpeopleapi.readonly\n",
      "\n",
      "Enter your authorization code:\n",
      "··········\n",
      "Mounted at /content/drive\n"
     ]
    }
   ],
   "source": [
    "from google.colab import drive\n",
    "drive.mount('/content/drive')"
   ]
  },
  {
   "cell_type": "code",
   "execution_count": 0,
   "metadata": {
    "colab": {},
    "colab_type": "code",
    "id": "8mCK2eAHBtBE"
   },
   "outputs": [],
   "source": []
  },
  {
   "cell_type": "code",
   "execution_count": 6,
   "metadata": {
    "colab": {
     "base_uri": "https://localhost:8080/",
     "height": 462
    },
    "colab_type": "code",
    "executionInfo": {
     "elapsed": 20571,
     "status": "ok",
     "timestamp": 1575059060126,
     "user": {
      "displayName": "Pierre Adeikalam",
      "photoUrl": "https://lh5.googleusercontent.com/-ajsLuZ1nxZ0/AAAAAAAAAAI/AAAAAAAAAkg/mDSbWKpnT8s/s64/photo.jpg",
      "userId": "13583412382080420095"
     },
     "user_tz": -60
    },
    "id": "ldrR1WLD4ork",
    "outputId": "600e7070-1415-4073-cce8-6c6be2cfe834"
   },
   "outputs": [
    {
     "name": "stdout",
     "output_type": "stream",
     "text": [
      "Collecting unidecode\n",
      "\u001b[?25l  Downloading https://files.pythonhosted.org/packages/d0/42/d9edfed04228bacea2d824904cae367ee9efd05e6cce7ceaaedd0b0ad964/Unidecode-1.1.1-py2.py3-none-any.whl (238kB)\n",
      "\r",
      "\u001b[K     |█▍                              | 10kB 26.1MB/s eta 0:00:01\r",
      "\u001b[K     |██▊                             | 20kB 1.7MB/s eta 0:00:01\r",
      "\u001b[K     |████▏                           | 30kB 2.6MB/s eta 0:00:01\r",
      "\u001b[K     |█████▌                          | 40kB 1.7MB/s eta 0:00:01\r",
      "\u001b[K     |██████▉                         | 51kB 2.1MB/s eta 0:00:01\r",
      "\u001b[K     |████████▎                       | 61kB 2.5MB/s eta 0:00:01\r",
      "\u001b[K     |█████████▋                      | 71kB 2.9MB/s eta 0:00:01\r",
      "\u001b[K     |███████████                     | 81kB 3.3MB/s eta 0:00:01\r",
      "\u001b[K     |████████████▍                   | 92kB 3.7MB/s eta 0:00:01\r",
      "\u001b[K     |█████████████▊                  | 102kB 2.8MB/s eta 0:00:01\r",
      "\u001b[K     |███████████████▏                | 112kB 2.8MB/s eta 0:00:01\r",
      "\u001b[K     |████████████████▌               | 122kB 2.8MB/s eta 0:00:01\r",
      "\u001b[K     |█████████████████▉              | 133kB 2.8MB/s eta 0:00:01\r",
      "\u001b[K     |███████████████████▎            | 143kB 2.8MB/s eta 0:00:01\r",
      "\u001b[K     |████████████████████▋           | 153kB 2.8MB/s eta 0:00:01\r",
      "\u001b[K     |██████████████████████          | 163kB 2.8MB/s eta 0:00:01\r",
      "\u001b[K     |███████████████████████▍        | 174kB 2.8MB/s eta 0:00:01\r",
      "\u001b[K     |████████████████████████▊       | 184kB 2.8MB/s eta 0:00:01\r",
      "\u001b[K     |██████████████████████████▏     | 194kB 2.8MB/s eta 0:00:01\r",
      "\u001b[K     |███████████████████████████▌    | 204kB 2.8MB/s eta 0:00:01\r",
      "\u001b[K     |████████████████████████████▉   | 215kB 2.8MB/s eta 0:00:01\r",
      "\u001b[K     |██████████████████████████████▎ | 225kB 2.8MB/s eta 0:00:01\r",
      "\u001b[K     |███████████████████████████████▋| 235kB 2.8MB/s eta 0:00:01\r",
      "\u001b[K     |████████████████████████████████| 245kB 2.8MB/s \n",
      "\u001b[?25hInstalling collected packages: unidecode\n",
      "Successfully installed unidecode-1.1.1\n",
      "Collecting https://api.github.com/repos/paris-saclay-cds/ramp-workflow/zipball/master\n",
      "\u001b[?25l  Downloading https://api.github.com/repos/paris-saclay-cds/ramp-workflow/zipball/master\n",
      "\u001b[K     / 3.0MB 584kB/s\n",
      "\u001b[?25hRequirement already satisfied: numpy in /usr/local/lib/python3.6/dist-packages (from ramp-workflow==0+unknown) (1.17.4)\n",
      "Requirement already satisfied: scipy in /usr/local/lib/python3.6/dist-packages (from ramp-workflow==0+unknown) (1.3.2)\n",
      "Requirement already satisfied: pandas>=0.19.2 in /usr/local/lib/python3.6/dist-packages (from ramp-workflow==0+unknown) (0.25.3)\n",
      "Requirement already satisfied: scikit-learn>=0.18 in /usr/local/lib/python3.6/dist-packages (from ramp-workflow==0+unknown) (0.21.3)\n",
      "Requirement already satisfied: cloudpickle in /usr/local/lib/python3.6/dist-packages (from ramp-workflow==0+unknown) (1.2.2)\n",
      "Requirement already satisfied: click in /usr/local/lib/python3.6/dist-packages (from ramp-workflow==0+unknown) (7.0)\n",
      "Requirement already satisfied: pytz>=2017.2 in /usr/local/lib/python3.6/dist-packages (from pandas>=0.19.2->ramp-workflow==0+unknown) (2018.9)\n",
      "Requirement already satisfied: python-dateutil>=2.6.1 in /usr/local/lib/python3.6/dist-packages (from pandas>=0.19.2->ramp-workflow==0+unknown) (2.6.1)\n",
      "Requirement already satisfied: joblib>=0.11 in /usr/local/lib/python3.6/dist-packages (from scikit-learn>=0.18->ramp-workflow==0+unknown) (0.14.0)\n",
      "Requirement already satisfied: six>=1.5 in /usr/local/lib/python3.6/dist-packages (from python-dateutil>=2.6.1->pandas>=0.19.2->ramp-workflow==0+unknown) (1.12.0)\n",
      "Building wheels for collected packages: ramp-workflow\n",
      "  Building wheel for ramp-workflow (setup.py) ... \u001b[?25l\u001b[?25hdone\n",
      "  Created wheel for ramp-workflow: filename=ramp_workflow-0+unknown-cp36-none-any.whl size=122330 sha256=5bdfb0c30c2be43a00828309a6327bb5c8f90b3cc803c4ab7914b8f9be897606\n",
      "  Stored in directory: /tmp/pip-ephem-wheel-cache-rok40qmc/wheels/06/a6/99/b0e319f45edc7ed9085d61ea00b0a33af4fe2f9cb76bf3af01\n",
      "Successfully built ramp-workflow\n",
      "Installing collected packages: ramp-workflow\n",
      "Successfully installed ramp-workflow-0+unknown\n"
     ]
    }
   ],
   "source": [
    "!pip install unidecode\n",
    "!pip install https://api.github.com/repos/paris-saclay-cds/ramp-workflow/zipball/master"
   ]
  },
  {
   "cell_type": "code",
   "execution_count": 1,
   "metadata": {
    "colab": {},
    "colab_type": "code",
    "id": "JM8vIvME4FG0"
   },
   "outputs": [],
   "source": [
    "import os\n",
    "%matplotlib inline\n",
    "import time\n",
    "import imp\n",
    "import pandas as pd\n",
    "import numpy as np\n",
    "from matplotlib import pyplot as plt\n",
    "import seaborn\n",
    "import unidecode"
   ]
  },
  {
   "cell_type": "code",
   "execution_count": 2,
   "metadata": {
    "colab": {},
    "colab_type": "code",
    "id": "dhTfpj6f3vZy"
   },
   "outputs": [],
   "source": [
    "from problem import get_train_data\n",
    "\n",
    "X_df, y_array = get_train_data()"
   ]
  },
  {
   "cell_type": "code",
   "execution_count": 3,
   "metadata": {
    "colab": {
     "base_uri": "https://localhost:8080/",
     "height": 462
    },
    "colab_type": "code",
    "executionInfo": {
     "elapsed": 5048,
     "status": "ok",
     "timestamp": 1575062163226,
     "user": {
      "displayName": "Pierre Adeikalam",
      "photoUrl": "https://lh5.googleusercontent.com/-ajsLuZ1nxZ0/AAAAAAAAAAI/AAAAAAAAAkg/mDSbWKpnT8s/s64/photo.jpg",
      "userId": "13583412382080420095"
     },
     "user_tz": -60
    },
    "id": "JCbzsiAj3vZ0",
    "outputId": "73366ac6-660a-472e-dc84-0fea4cd29fe6"
   },
   "outputs": [
    {
     "data": {
      "text/html": [
       "<div>\n",
       "<style scoped>\n",
       "    .dataframe tbody tr th:only-of-type {\n",
       "        vertical-align: middle;\n",
       "    }\n",
       "\n",
       "    .dataframe tbody tr th {\n",
       "        vertical-align: top;\n",
       "    }\n",
       "\n",
       "    .dataframe thead th {\n",
       "        text-align: right;\n",
       "    }\n",
       "</style>\n",
       "<table border=\"1\" class=\"dataframe\">\n",
       "  <thead>\n",
       "    <tr style=\"text-align: right;\">\n",
       "      <th></th>\n",
       "      <th>Legal_ID</th>\n",
       "      <th>Name</th>\n",
       "      <th>Activity_code (APE)</th>\n",
       "      <th>Address</th>\n",
       "      <th>Zipcode</th>\n",
       "      <th>City</th>\n",
       "      <th>Headcount</th>\n",
       "      <th>Fiscal_year_end_date</th>\n",
       "      <th>Fiscal_year_duration_in_months</th>\n",
       "      <th>Year</th>\n",
       "    </tr>\n",
       "  </thead>\n",
       "  <tbody>\n",
       "    <tr>\n",
       "      <th>0</th>\n",
       "      <td>582296</td>\n",
       "      <td>COMICOB</td>\n",
       "      <td>NaN</td>\n",
       "      <td>BOULOUPARIS BP 15 BOULOUPARIS</td>\n",
       "      <td>NaN</td>\n",
       "      <td>NaN</td>\n",
       "      <td>NaN</td>\n",
       "      <td>2016-12-31</td>\n",
       "      <td>12.0</td>\n",
       "      <td>2016.0</td>\n",
       "    </tr>\n",
       "    <tr>\n",
       "      <th>1</th>\n",
       "      <td>582981</td>\n",
       "      <td>CIANFARANI JEAN-MICHEL</td>\n",
       "      <td>NaN</td>\n",
       "      <td>33 AVENUE H. LAFLEUR - VICTOIRE - B.P. 4031 NO...</td>\n",
       "      <td>NaN</td>\n",
       "      <td>NaN</td>\n",
       "      <td>NaN</td>\n",
       "      <td>2016-12-31</td>\n",
       "      <td>12.0</td>\n",
       "      <td>2016.0</td>\n",
       "    </tr>\n",
       "    <tr>\n",
       "      <th>2</th>\n",
       "      <td>588541</td>\n",
       "      <td>OK POULET 5EME SARL</td>\n",
       "      <td>NaN</td>\n",
       "      <td>23 RUE PAUL BERT</td>\n",
       "      <td>98800.0</td>\n",
       "      <td>NOUMEA</td>\n",
       "      <td>1.0</td>\n",
       "      <td>2016-12-31</td>\n",
       "      <td>12.0</td>\n",
       "      <td>2016.0</td>\n",
       "    </tr>\n",
       "    <tr>\n",
       "      <th>3</th>\n",
       "      <td>589275</td>\n",
       "      <td>INSTITUT DE LA QUALITE S.A.R.L.</td>\n",
       "      <td>NaN</td>\n",
       "      <td>224 RUE J. IEKAWE - COMPLEXE DE LA BELLE-VIE -...</td>\n",
       "      <td>98800.0</td>\n",
       "      <td>NOUMEA</td>\n",
       "      <td>NaN</td>\n",
       "      <td>2016-12-31</td>\n",
       "      <td>12.0</td>\n",
       "      <td>2016.0</td>\n",
       "    </tr>\n",
       "    <tr>\n",
       "      <th>4</th>\n",
       "      <td>592972</td>\n",
       "      <td>EXPERT TRADE</td>\n",
       "      <td>NaN</td>\n",
       "      <td>2 RUE DE L ASTROLABE OUEMO MAGENTA</td>\n",
       "      <td>98800.0</td>\n",
       "      <td>NOUMEA</td>\n",
       "      <td>NaN</td>\n",
       "      <td>2016-12-31</td>\n",
       "      <td>12.0</td>\n",
       "      <td>2016.0</td>\n",
       "    </tr>\n",
       "  </tbody>\n",
       "</table>\n",
       "</div>"
      ],
      "text/plain": [
       "   Legal_ID                             Name Activity_code (APE)  \\\n",
       "0    582296                          COMICOB                 NaN   \n",
       "1    582981           CIANFARANI JEAN-MICHEL                 NaN   \n",
       "2    588541              OK POULET 5EME SARL                 NaN   \n",
       "3    589275  INSTITUT DE LA QUALITE S.A.R.L.                 NaN   \n",
       "4    592972                     EXPERT TRADE                 NaN   \n",
       "\n",
       "                                             Address  Zipcode    City  \\\n",
       "0                      BOULOUPARIS BP 15 BOULOUPARIS      NaN     NaN   \n",
       "1  33 AVENUE H. LAFLEUR - VICTOIRE - B.P. 4031 NO...      NaN     NaN   \n",
       "2                                   23 RUE PAUL BERT  98800.0  NOUMEA   \n",
       "3  224 RUE J. IEKAWE - COMPLEXE DE LA BELLE-VIE -...  98800.0  NOUMEA   \n",
       "4                 2 RUE DE L ASTROLABE OUEMO MAGENTA  98800.0  NOUMEA   \n",
       "\n",
       "   Headcount Fiscal_year_end_date  Fiscal_year_duration_in_months    Year  \n",
       "0        NaN           2016-12-31                            12.0  2016.0  \n",
       "1        NaN           2016-12-31                            12.0  2016.0  \n",
       "2        1.0           2016-12-31                            12.0  2016.0  \n",
       "3        NaN           2016-12-31                            12.0  2016.0  \n",
       "4        NaN           2016-12-31                            12.0  2016.0  "
      ]
     },
     "execution_count": 3,
     "metadata": {},
     "output_type": "execute_result"
    }
   ],
   "source": [
    "X_df.head()"
   ]
  },
  {
   "cell_type": "code",
   "execution_count": 4,
   "metadata": {
    "colab": {
     "base_uri": "https://localhost:8080/",
     "height": 434
    },
    "colab_type": "code",
    "executionInfo": {
     "elapsed": 9141,
     "status": "ok",
     "timestamp": 1575060549590,
     "user": {
      "displayName": "Pierre Adeikalam",
      "photoUrl": "https://lh5.googleusercontent.com/-ajsLuZ1nxZ0/AAAAAAAAAAI/AAAAAAAAAkg/mDSbWKpnT8s/s64/photo.jpg",
      "userId": "13583412382080420095"
     },
     "user_tz": -60
    },
    "id": "lK3Dwl_x3vZ3",
    "outputId": "63ecd4d3-346d-4aff-fce3-6c341f653cf2"
   },
   "outputs": [
    {
     "name": "stderr",
     "output_type": "stream",
     "text": [
      "/usr/local/lib/python3.6/dist-packages/IPython/core/interactiveshell.py:2718: DtypeWarning: Columns (4,12) have mixed types. Specify dtype option on import or set low_memory=False.\n",
      "  interactivity=interactivity, compiler=compiler, result=result)\n"
     ]
    },
    {
     "data": {
      "text/html": [
       "<div>\n",
       "<style scoped>\n",
       "    .dataframe tbody tr th:only-of-type {\n",
       "        vertical-align: middle;\n",
       "    }\n",
       "\n",
       "    .dataframe tbody tr th {\n",
       "        vertical-align: top;\n",
       "    }\n",
       "\n",
       "    .dataframe thead th {\n",
       "        text-align: right;\n",
       "    }\n",
       "</style>\n",
       "<table border=\"1\" class=\"dataframe\">\n",
       "  <thead>\n",
       "    <tr style=\"text-align: right;\">\n",
       "      <th></th>\n",
       "      <th>CallID</th>\n",
       "      <th>Publication_date</th>\n",
       "      <th>End_of_call_date</th>\n",
       "      <th>Departments_of_publication</th>\n",
       "      <th>Departments_of_provision</th>\n",
       "      <th>Call_summary</th>\n",
       "      <th>Call_title</th>\n",
       "      <th>Complete_call_description</th>\n",
       "      <th>Total_amount</th>\n",
       "      <th>CPV_classes</th>\n",
       "      <th>Buyer_name</th>\n",
       "      <th>Buyer_address</th>\n",
       "      <th>Buyer_zipcode</th>\n",
       "      <th>Buyer_city</th>\n",
       "      <th>Buyer_email</th>\n",
       "      <th>Buyer_URL</th>\n",
       "      <th>Contract_awarded</th>\n",
       "      <th>Lot</th>\n",
       "      <th>ID</th>\n",
       "      <th>awarded</th>\n",
       "      <th>description</th>\n",
       "      <th>incumbent_name</th>\n",
       "      <th>incumbent_address</th>\n",
       "      <th>incumbent_zipcode</th>\n",
       "      <th>incumbent_city</th>\n",
       "      <th>incumbent_country</th>\n",
       "      <th>number_of_received_bids</th>\n",
       "      <th>amount</th>\n",
       "    </tr>\n",
       "  </thead>\n",
       "  <tbody>\n",
       "    <tr>\n",
       "      <th>0</th>\n",
       "      <td>16-119770</td>\n",
       "      <td>2016-08-11 00:00:00</td>\n",
       "      <td>2016-09-20</td>\n",
       "      <td>13</td>\n",
       "      <td>NaN</td>\n",
       "      <td>mission de maitrise d'oeuvre relative aux trav...</td>\n",
       "      <td>MISSION DE MAITRISE D'OEUVRE RELATIVE AUX TRAV...</td>\n",
       "      <td>MISSION DE MAITRISE D'OEUVRE RELATIVE AUX TRAV...</td>\n",
       "      <td>NaN</td>\n",
       "      <td>71000000</td>\n",
       "      <td>C.P.C.A.M. des Bouches du Rhône</td>\n",
       "      <td>56, chemin Joseph Aiguier</td>\n",
       "      <td>13009</td>\n",
       "      <td>MARSEILLE</td>\n",
       "      <td>521.dpt.juridique@cpam-marseille.cnamts.fr</td>\n",
       "      <td>http://www.ameli.fr</td>\n",
       "      <td>Yes</td>\n",
       "      <td>1</td>\n",
       "      <td>NaN</td>\n",
       "      <td>Yes</td>\n",
       "      <td>NaN</td>\n",
       "      <td>AI PROJECT</td>\n",
       "      <td>11, avenue de la Capelette</td>\n",
       "      <td>13010</td>\n",
       "      <td>Marseille</td>\n",
       "      <td>FR</td>\n",
       "      <td>13.0</td>\n",
       "      <td>83200.0</td>\n",
       "    </tr>\n",
       "    <tr>\n",
       "      <th>1</th>\n",
       "      <td>15-46335</td>\n",
       "      <td>2015-03-27 00:00:00</td>\n",
       "      <td>2015-04-25</td>\n",
       "      <td>85</td>\n",
       "      <td>85</td>\n",
       "      <td>fourniture de réactifs immunosérologiques pour...</td>\n",
       "      <td>NaN</td>\n",
       "      <td>Fourniture de réactifs immunosérologiques pour...</td>\n",
       "      <td>NaN</td>\n",
       "      <td>33696200 33696500</td>\n",
       "      <td>Conseil général de la Vendée</td>\n",
       "      <td>40 rue du Maréchal Foch</td>\n",
       "      <td>85923</td>\n",
       "      <td>La Roche sur Yon</td>\n",
       "      <td>NaN</td>\n",
       "      <td>http://www.vendee.fr</td>\n",
       "      <td>Yes</td>\n",
       "      <td>1</td>\n",
       "      <td>1</td>\n",
       "      <td>Yes</td>\n",
       "      <td>Kit pour recherche d'anticorps anti-IBR sur sé...</td>\n",
       "      <td>ID-VET</td>\n",
       "      <td>310 rue Louis Pasteur</td>\n",
       "      <td>34790</td>\n",
       "      <td>Grabels</td>\n",
       "      <td>FR</td>\n",
       "      <td>2.0</td>\n",
       "      <td>NaN</td>\n",
       "    </tr>\n",
       "    <tr>\n",
       "      <th>2</th>\n",
       "      <td>15-46335</td>\n",
       "      <td>2015-03-27 00:00:00</td>\n",
       "      <td>2015-04-25</td>\n",
       "      <td>85</td>\n",
       "      <td>85</td>\n",
       "      <td>fourniture de réactifs immunosérologiques pour...</td>\n",
       "      <td>NaN</td>\n",
       "      <td>Fourniture de réactifs immunosérologiques pour...</td>\n",
       "      <td>NaN</td>\n",
       "      <td>33696200 33696500</td>\n",
       "      <td>Conseil général de la Vendée</td>\n",
       "      <td>40 rue du Maréchal Foch</td>\n",
       "      <td>85923</td>\n",
       "      <td>La Roche sur Yon</td>\n",
       "      <td>NaN</td>\n",
       "      <td>http://www.vendee.fr</td>\n",
       "      <td>Yes</td>\n",
       "      <td>2</td>\n",
       "      <td>2</td>\n",
       "      <td>Yes</td>\n",
       "      <td>Kit pour recherche d'anticorps anti-IBR sur mé...</td>\n",
       "      <td>IDEXX MONTPELLIER SAS</td>\n",
       "      <td>323 RUE DE LA GALERA</td>\n",
       "      <td>34090</td>\n",
       "      <td>MONTPELLIER</td>\n",
       "      <td>FR</td>\n",
       "      <td>2.0</td>\n",
       "      <td>NaN</td>\n",
       "    </tr>\n",
       "  </tbody>\n",
       "</table>\n",
       "</div>"
      ],
      "text/plain": [
       "      CallID     Publication_date  ... number_of_received_bids   amount\n",
       "0  16-119770  2016-08-11 00:00:00  ...                    13.0  83200.0\n",
       "1   15-46335  2015-03-27 00:00:00  ...                     2.0      NaN\n",
       "2   15-46335  2015-03-27 00:00:00  ...                     2.0      NaN\n",
       "\n",
       "[3 rows x 28 columns]"
      ]
     },
     "execution_count": 4,
     "metadata": {
      "tags": []
     },
     "output_type": "execute_result"
    }
   ],
   "source": [
    "award = pd.read_csv('data/award_notices_RAMP.csv.zip', compression='zip')\n",
    "award.head(3)"
   ]
  },
  {
   "cell_type": "markdown",
   "metadata": {
    "colab_type": "text",
    "id": "cQ9fRgLH3vZ5"
   },
   "source": [
    "# Preprocessing Pipeline"
   ]
  },
  {
   "cell_type": "markdown",
   "metadata": {
    "colab_type": "text",
    "id": "eGRFCOCR3vZ6"
   },
   "source": [
    "# Imputing missing values of X_df"
   ]
  },
  {
   "cell_type": "code",
   "execution_count": 5,
   "metadata": {
    "colab": {},
    "colab_type": "code",
    "id": "SUP4NA_n1j-H"
   },
   "outputs": [],
   "source": [
    "# some parameters\n",
    "\n",
    "ape_code_length = 4"
   ]
  },
  {
   "cell_type": "code",
   "execution_count": null,
   "metadata": {
    "code_folding": [],
    "colab": {},
    "colab_type": "code",
    "id": "s1WPRk_o3vZ6"
   },
   "outputs": [],
   "source": [
    "# keeping first 2 numbers of APE\n",
    "t = time.time()\n",
    "X_df['Activity_code (APE)'] = X_df['Activity_code (APE)'].fillna(value = '000').astype('str').apply(lambda x: x[:ape_code_length])\n",
    "\n",
    "# infer zipcode from city\n",
    "\n",
    "if(True):\n",
    "    X_df['Zipcode'] = X_df['Zipcode'].astype('str').apply(lambda x: x[:2])\n",
    "    city_names = X_df[['Zipcode', 'City']].groupby('Zipcode').City.apply(list).values\n",
    "    zipcodes = X_df[['Zipcode', 'City']].groupby('Zipcode').City.apply(list).index\n",
    "    zip_dict = {zipcode:list(set(cities)) for zipcode,cities in zip(zipcodes, city_names)}\n",
    "    \n",
    "    #remove nans from city lists\n",
    "    \n",
    "    for key in zip_dict.keys():\n",
    "        for i, city in enumerate(zip_dict[key]):\n",
    "            if type(city) != type('a string'):\n",
    "                zip_dict[key].pop(i)\n",
    "           \n",
    "    # infer zip by checking lists\n",
    "    \n",
    "    def infer_zip(city):\n",
    "        for key in zip_dict:\n",
    "            if city in zip_dict[key]:\n",
    "                return key\n",
    "    \n",
    "    X_df.loc[X_df['Zipcode'] == 'na', 'Zipcode'] = X_df.loc[X_df['Zipcode'] == 'na', 'City'].apply(infer_zip)\n",
    "    X_df.loc[X_df['Zipcode'] == 'na', 'Zipcode'] = '00'\n",
    "    X_df['Zipcode'] = X_df['Zipcode'].fillna('00')\n",
    "    \n",
    "# fill name and lower\n",
    "\n",
    "X_df['Name'] = X_df['Name'].fillna('nan').str.lower().astype('str').apply(unidecode.unidecode)\n",
    "\n",
    "# Fill headcounts\n",
    "\n",
    "if(True):\n",
    "    headcounts = X_df[['Name', 'Headcount']].groupby('Name').mean().fillna(0).to_dict()['Headcount']\n",
    "    names = X_df['Name'].values\n",
    "    heads = np.zeros(len(names))\n",
    "\n",
    "    for i,name in enumerate(names):\n",
    "        if type(name) == type('a string'):\n",
    "            heads[i] = headcounts[name]\n",
    "\n",
    "    X_df['Headcount'] = heads\n",
    "\n",
    "# unicode and lower\n",
    "\n",
    "X_df['City'] = X_df['City'].fillna('nan').str.lower().apply(unidecode.unidecode)\n",
    "\n",
    "# Drop Address"
   ]
  },
  {
   "cell_type": "markdown",
   "metadata": {
    "colab_type": "text",
    "id": "Graj-ZAn3vZ9"
   },
   "source": [
    "# X_df no longer has NAs"
   ]
  },
  {
   "cell_type": "code",
   "execution_count": null,
   "metadata": {
    "colab": {
     "base_uri": "https://localhost:8080/",
     "height": 728
    },
    "colab_type": "code",
    "executionInfo": {
     "elapsed": 55976,
     "status": "ok",
     "timestamp": 1575060598125,
     "user": {
      "displayName": "Pierre Adeikalam",
      "photoUrl": "https://lh5.googleusercontent.com/-ajsLuZ1nxZ0/AAAAAAAAAAI/AAAAAAAAAkg/mDSbWKpnT8s/s64/photo.jpg",
      "userId": "13583412382080420095"
     },
     "user_tz": -60
    },
    "id": "xzv74fBJ3vZ9",
    "outputId": "ccb012ff-1102-4e3f-d09e-259cad5e47f9",
    "scrolled": false
   },
   "outputs": [],
   "source": [
    "X_df"
   ]
  },
  {
   "cell_type": "code",
   "execution_count": null,
   "metadata": {
    "colab": {
     "base_uri": "https://localhost:8080/",
     "height": 88
    },
    "colab_type": "code",
    "executionInfo": {
     "elapsed": 130406,
     "status": "ok",
     "timestamp": 1575060672709,
     "user": {
      "displayName": "Pierre Adeikalam",
      "photoUrl": "https://lh5.googleusercontent.com/-ajsLuZ1nxZ0/AAAAAAAAAAI/AAAAAAAAAkg/mDSbWKpnT8s/s64/photo.jpg",
      "userId": "13583412382080420095"
     },
     "user_tz": -60
    },
    "id": "ej_bwYvt3vZ_",
    "outputId": "df83bb46-546d-4051-a900-bb9a216b7525"
   },
   "outputs": [],
   "source": [
    "award = pd.read_csv('data/award_notices_RAMP.csv.zip', compression='zip')\n",
    "\n",
    "city_list = [unidecode.unidecode(i.lower()) for i in list(set(X_df['City'].values))]\n",
    "\n",
    "def cedex_remover(s):\n",
    "    s = s.replace('-', ' ').replace(',', ' ')\n",
    "    tokens = s.split(' ')\n",
    "    for k in range(len(tokens)):\n",
    "        for j in range(1, len(tokens)-k + 1):\n",
    "            if ' '.join(tokens[k:k+j]) in city_list:\n",
    "                return ' '.join(tokens[k:k+j])\n",
    "    return None\n",
    "\n",
    "award.head(3)\n",
    "\n",
    "print(award.shape)\n",
    "\n",
    "# unidecode incumbent_name and lower\n",
    "\n",
    "award['incumbent_name'] = award['incumbent_name'].str.lower().astype('str').apply(unidecode.unidecode)\n",
    "\n",
    "# preprocess incumbent_city and fill nans\n",
    "award['incumbent_city'] = award['incumbent_city'].str.lower().astype('str').apply(unidecode.unidecode).apply(cedex_remover).fillna('nan')\n",
    "\n",
    "\n",
    "# Remove NA in department of provision and keep first 2\n",
    "award = award[award['Departments_of_publication'].notna()]\n",
    "award['Departments_of_publication'] = award['Departments_of_publication'].astype('str').apply(lambda x: x.split(',')[0][:2])\n"
   ]
  },
  {
   "cell_type": "code",
   "execution_count": null,
   "metadata": {
    "code_folding": [],
    "colab": {},
    "colab_type": "code",
    "id": "eIUt7YE_3vaC"
   },
   "outputs": [],
   "source": [
    "# city mean FAN\n",
    "\n",
    "city_mean_fan = award[['incumbent_city','amount']].groupby('incumbent_city').quantile(0.5).fillna(0).to_dict()['amount']\n",
    "\n",
    "city_lower_mean = award[['incumbent_city','amount']].groupby('incumbent_city').quantile(0.25).fillna(0).to_dict()['amount']\n",
    "city_higher_mean = award[['incumbent_city','amount']].groupby('incumbent_city').quantile(0.75).fillna(0).to_dict()['amount']"
   ]
  },
  {
   "cell_type": "code",
   "execution_count": null,
   "metadata": {
    "code_folding": [],
    "colab": {},
    "colab_type": "code",
    "id": "H2nhXB3d3vaE"
   },
   "outputs": [],
   "source": [
    "# zip mean FAN\n",
    "\n",
    "zip_mean_fan = award[['Departments_of_publication','amount']].groupby('Departments_of_publication').quantile(0.5).fillna(0).to_dict()['amount']\n",
    "\n",
    "zip_lower_mean = award[['Departments_of_publication','amount']].groupby('Departments_of_publication').quantile(0.25).fillna(0).to_dict()['amount']\n",
    "zip_higher_mean = award[['Departments_of_publication','amount']].groupby('Departments_of_publication').quantile(0.75).fillna(0).to_dict()['amount']"
   ]
  },
  {
   "cell_type": "code",
   "execution_count": null,
   "metadata": {
    "code_folding": [],
    "colab": {
     "base_uri": "https://localhost:8080/",
     "height": 139
    },
    "colab_type": "code",
    "executionInfo": {
     "elapsed": 176737,
     "status": "ok",
     "timestamp": 1575060719507,
     "user": {
      "displayName": "Pierre Adeikalam",
      "photoUrl": "https://lh5.googleusercontent.com/-ajsLuZ1nxZ0/AAAAAAAAAAI/AAAAAAAAAkg/mDSbWKpnT8s/s64/photo.jpg",
      "userId": "13583412382080420095"
     },
     "user_tz": -60
    },
    "id": "uuU6-2ot3vaF",
    "outputId": "5712721d-18f1-4a8e-b688-ca1658aff723"
   },
   "outputs": [],
   "source": [
    "# APE mean FAN\n",
    "company_list = [unidecode.unidecode(str(i).lower()) for i in list(set(X_df['Name'].values))]\n",
    "\n",
    "company_awards = award[award['incumbent_name'].isin(company_list)]\n",
    "\n",
    "ape_companies = X_df[['Name', 'Activity_code (APE)']].groupby('Name')['Activity_code (APE)'].apply(lambda x: list(x)[0])\n",
    "ape_companies.index = ape_companies.index.str.lower()\n",
    "ape_companies = ape_companies.to_dict()\n",
    "\n",
    "def infer_ape(name):\n",
    "    return ape_companies[name]\n",
    "company_awards['APE'] = company_awards['incumbent_name'].apply(infer_ape)\n",
    "\n",
    "ape_mean_fan = company_awards[['APE','amount']].groupby('APE').quantile(0.5).fillna(0).to_dict()['amount']\n",
    "ape_lower_mean = company_awards[['APE','amount']].groupby('APE').quantile(0.25).fillna(0).to_dict()['amount']\n",
    "ape_higher_mean = company_awards[['APE','amount']].groupby('APE').quantile(0.75).fillna(0).to_dict()['amount']"
   ]
  },
  {
   "cell_type": "code",
   "execution_count": null,
   "metadata": {
    "code_folding": [],
    "colab": {},
    "colab_type": "code",
    "id": "j0_Rb6Td3vaH"
   },
   "outputs": [],
   "source": [
    "# Actual FAN revenue\n",
    "\n",
    "fan_revenue = company_awards[['incumbent_name','amount']].groupby('incumbent_name').sum().fillna(0).to_dict()['amount']\n"
   ]
  },
  {
   "cell_type": "code",
   "execution_count": null,
   "metadata": {
    "code_folding": [
     31
    ],
    "colab": {},
    "colab_type": "code",
    "id": "B1rHTHTu3vaJ"
   },
   "outputs": [],
   "source": [
    "# Insert features into X_df\n",
    "\n",
    "# Ape FAN\n",
    "if(True):\n",
    "    def infer_ape_fan(APE):\n",
    "        try:\n",
    "            return np.log10(ape_mean_fan[APE] + 1)\n",
    "        except:\n",
    "            return 0\n",
    "\n",
    "    def infer_low_ape_fan(APE):\n",
    "        try:\n",
    "            return np.log10(ape_lower_mean[APE] + 1)\n",
    "        except:\n",
    "            return 0\n",
    "\n",
    "    def infer_high_ape_fan(APE):\n",
    "        try:\n",
    "            return np.log10(ape_higher_mean[APE] + 1)\n",
    "        except:\n",
    "            return 0\n",
    "\n",
    "\n",
    "\n",
    "    X_df['APE_fan_0.5'] = X_df['Activity_code (APE)'].apply(infer_ape_fan)\n",
    "    X_df['APE_fan_0.25'] = X_df['Activity_code (APE)'].apply(infer_low_ape_fan)\n",
    "    X_df['APE_fan_0.75'] = X_df['Activity_code (APE)'].apply(infer_high_ape_fan)\n",
    "\n",
    "# City FAN\n",
    "if(True):\n",
    "\n",
    "    def infer_city_fan(city):\n",
    "        try:\n",
    "            return np.log10(city_mean_fan[city] + 1)\n",
    "        except:\n",
    "            return 0\n",
    "\n",
    "    def infer_low_city_fan(city):\n",
    "        try:\n",
    "            return np.log10(city_lower_mean[city] + 1)\n",
    "        except:\n",
    "            return 0\n",
    "\n",
    "    def infer_high_city_fan(city):\n",
    "        try:\n",
    "            return np.log10(city_higher_mean[city] + 1)\n",
    "        except:\n",
    "            return 0\n",
    "\n",
    "\n",
    "    X_df['city_fan_0.5'] = X_df['City'].apply(infer_city_fan)\n",
    "    X_df['city_fan_0.25'] = X_df['City'].apply(infer_low_city_fan)\n",
    "    X_df['city_fan_0.75'] = X_df['City'].apply(infer_high_city_fan)\n",
    "\n",
    "# Zip_fan\n",
    "if(True):\n",
    "    def infer_zip_fan(zipcode):\n",
    "        try:\n",
    "            return np.log10(zip_mean_fan[zipcode] + 1)\n",
    "        except:\n",
    "            return 0\n",
    "\n",
    "    def infer_low_zip_fan(zipcode):\n",
    "        try:\n",
    "            return np.log10(zip_lower_mean[zipcode] + 1)\n",
    "        except:\n",
    "            return 0\n",
    "\n",
    "    def infer_high_zip_fan(zipcode):\n",
    "        try:\n",
    "            return np.log10(zip_higher_mean[zipcode] + 1)\n",
    "        except:\n",
    "            return 0\n",
    "\n",
    "    X_df['zip_fan_0.5'] = X_df['Zipcode'].apply(infer_zip_fan)\n",
    "    X_df['zip_fan_0.25'] = X_df['Zipcode'].apply(infer_low_zip_fan)\n",
    "    X_df['zip_fan_0.75'] = X_df['Zipcode'].apply(infer_high_zip_fan)\n",
    "\n",
    "# Actual FAN\n",
    "if(True):\n",
    "    def infer_fan(name):\n",
    "        try:\n",
    "            return np.log10(fan_revenue[name] + 1)\n",
    "        except:\n",
    "            return 0\n",
    "\n",
    "    X_df['FAN'] = X_df['Name'].apply(infer_fan)\n"
   ]
  },
  {
   "cell_type": "code",
   "execution_count": null,
   "metadata": {
    "colab": {
     "base_uri": "https://localhost:8080/",
     "height": 34
    },
    "colab_type": "code",
    "executionInfo": {
     "elapsed": 48871,
     "status": "ok",
     "timestamp": 1575062228198,
     "user": {
      "displayName": "Pierre Adeikalam",
      "photoUrl": "https://lh5.googleusercontent.com/-ajsLuZ1nxZ0/AAAAAAAAAAI/AAAAAAAAAkg/mDSbWKpnT8s/s64/photo.jpg",
      "userId": "13583412382080420095"
     },
     "user_tz": -60
    },
    "id": "VK7jF1ry3vaL",
    "outputId": "c8bad0ce-2239-42bc-a41a-306ed16e490d"
   },
   "outputs": [],
   "source": [
    "time.time() - t"
   ]
  },
  {
   "cell_type": "code",
   "execution_count": 80,
   "metadata": {
    "colab": {
     "base_uri": "https://localhost:8080/",
     "height": 357
    },
    "colab_type": "code",
    "executionInfo": {
     "elapsed": 1459,
     "status": "ok",
     "timestamp": 1575061942610,
     "user": {
      "displayName": "Pierre Adeikalam",
      "photoUrl": "https://lh5.googleusercontent.com/-ajsLuZ1nxZ0/AAAAAAAAAAI/AAAAAAAAAkg/mDSbWKpnT8s/s64/photo.jpg",
      "userId": "13583412382080420095"
     },
     "user_tz": -60
    },
    "id": "J46cyBgm3vaN",
    "outputId": "63bebff7-6b5a-4a85-de55-426de96c27e2"
   },
   "outputs": [
    {
     "data": {
      "text/plain": [
       "Legal_ID                          0\n",
       "Activity_code (APE)               0\n",
       "Zipcode                           0\n",
       "City                              0\n",
       "Headcount                         0\n",
       "Fiscal_year_end_date              0\n",
       "Fiscal_year_duration_in_months    0\n",
       "Year                              0\n",
       "APE_fan_0.5                       0\n",
       "APE_fan_0.25                      0\n",
       "APE_fan_0.75                      0\n",
       "city_fan_0.5                      0\n",
       "city_fan_0.25                     0\n",
       "city_fan_0.75                     0\n",
       "zip_fan_0.5                       0\n",
       "zip_fan_0.25                      0\n",
       "zip_fan_0.75                      0\n",
       "FAN                               0\n",
       "y                                 0\n",
       "dtype: int64"
      ]
     },
     "execution_count": 80,
     "metadata": {
      "tags": []
     },
     "output_type": "execute_result"
    }
   ],
   "source": [
    "X_df.isna().sum()"
   ]
  },
  {
   "cell_type": "code",
   "execution_count": null,
   "metadata": {
    "colab": {},
    "colab_type": "code",
    "id": "obj0cMyv3vaP"
   },
   "outputs": [],
   "source": [
    "to_dummy = ['Activity_code (APE)', 'Zipcode', 'Year', 'City', 'Fiscal_year_end_date']\n",
    "to_drop = ['Name', 'Address']\n",
    "\n",
    "\n",
    "X_df = X_df.drop(to_drop, axis = 1)\n",
    "X_df['y'] = y_array"
   ]
  },
  {
   "cell_type": "code",
   "execution_count": null,
   "metadata": {
    "colab": {},
    "colab_type": "code",
    "id": "zlpdr0r63vaQ"
   },
   "outputs": [],
   "source": []
  },
  {
   "cell_type": "code",
   "execution_count": null,
   "metadata": {
    "colab": {},
    "colab_type": "code",
    "id": "iufL2JeA3vaS"
   },
   "outputs": [],
   "source": [
    "from binascii import crc32\n",
    "def test_set_check(identifier, test_ratio):\n",
    "    return crc32(np.int64(identifier)) & 0xffffffff < test_ratio * 2**32\n",
    "\n",
    "\n",
    "def split_train_test_by_id(data, test_ratio, id_column):\n",
    "    ids = data[id_column]\n",
    "    in_test_set = ids.apply(lambda id_: test_set_check(id_, test_ratio))\n",
    "    return data.loc[~in_test_set], data.loc[in_test_set]\n",
    "\n",
    "\n",
    "\n",
    "X_train, X_test = split_train_test_by_id(X_df, 0.2, 'Legal_ID')\n",
    "y_train = np.log10(np.max(np.array([X_train['y'], np.ones(X_train.shape[0])]), axis = 0))\n",
    "X_train = X_train.drop(['Legal_ID', 'y'], axis = 1)\n",
    "\n",
    "y_test = np.log10(np.max(np.array([X_test['y'], np.ones(X_test.shape[0])]), axis = 0))\n",
    "X_test = X_test.drop(['Legal_ID', 'y'], axis = 1)"
   ]
  },
  {
   "cell_type": "code",
   "execution_count": 87,
   "metadata": {
    "colab": {
     "base_uri": "https://localhost:8080/",
     "height": 473
    },
    "colab_type": "code",
    "executionInfo": {
     "elapsed": 889,
     "status": "ok",
     "timestamp": 1575062017707,
     "user": {
      "displayName": "Pierre Adeikalam",
      "photoUrl": "https://lh5.googleusercontent.com/-ajsLuZ1nxZ0/AAAAAAAAAAI/AAAAAAAAAkg/mDSbWKpnT8s/s64/photo.jpg",
      "userId": "13583412382080420095"
     },
     "user_tz": -60
    },
    "id": "26EAMp3u_hCF",
    "outputId": "7e3eb68d-3817-4877-94c2-04f0c79dabe0"
   },
   "outputs": [
    {
     "data": {
      "text/html": [
       "<div>\n",
       "<style scoped>\n",
       "    .dataframe tbody tr th:only-of-type {\n",
       "        vertical-align: middle;\n",
       "    }\n",
       "\n",
       "    .dataframe tbody tr th {\n",
       "        vertical-align: top;\n",
       "    }\n",
       "\n",
       "    .dataframe thead th {\n",
       "        text-align: right;\n",
       "    }\n",
       "</style>\n",
       "<table border=\"1\" class=\"dataframe\">\n",
       "  <thead>\n",
       "    <tr style=\"text-align: right;\">\n",
       "      <th></th>\n",
       "      <th>Activity_code (APE)</th>\n",
       "      <th>Zipcode</th>\n",
       "      <th>City</th>\n",
       "      <th>Headcount</th>\n",
       "      <th>Fiscal_year_duration_in_months</th>\n",
       "      <th>Year</th>\n",
       "      <th>APE_fan_0.5</th>\n",
       "      <th>APE_fan_0.25</th>\n",
       "      <th>APE_fan_0.75</th>\n",
       "      <th>city_fan_0.5</th>\n",
       "      <th>city_fan_0.25</th>\n",
       "      <th>city_fan_0.75</th>\n",
       "      <th>zip_fan_0.5</th>\n",
       "      <th>zip_fan_0.25</th>\n",
       "      <th>zip_fan_0.75</th>\n",
       "      <th>FAN</th>\n",
       "    </tr>\n",
       "  </thead>\n",
       "  <tbody>\n",
       "    <tr>\n",
       "      <th>2</th>\n",
       "      <td>000</td>\n",
       "      <td>98</td>\n",
       "      <td>noumea</td>\n",
       "      <td>1.0</td>\n",
       "      <td>12.0</td>\n",
       "      <td>2016.0</td>\n",
       "      <td>5.136680</td>\n",
       "      <td>4.612794</td>\n",
       "      <td>5.618396</td>\n",
       "      <td>6.336188</td>\n",
       "      <td>6.130012</td>\n",
       "      <td>6.982819</td>\n",
       "      <td>5.441673</td>\n",
       "      <td>5.070596</td>\n",
       "      <td>5.781046</td>\n",
       "      <td>0.0</td>\n",
       "    </tr>\n",
       "    <tr>\n",
       "      <th>16</th>\n",
       "      <td>000</td>\n",
       "      <td>98</td>\n",
       "      <td>dumbea</td>\n",
       "      <td>1.0</td>\n",
       "      <td>12.0</td>\n",
       "      <td>2016.0</td>\n",
       "      <td>5.136680</td>\n",
       "      <td>4.612794</td>\n",
       "      <td>5.618396</td>\n",
       "      <td>0.000000</td>\n",
       "      <td>0.000000</td>\n",
       "      <td>0.000000</td>\n",
       "      <td>5.441673</td>\n",
       "      <td>5.070596</td>\n",
       "      <td>5.781046</td>\n",
       "      <td>0.0</td>\n",
       "    </tr>\n",
       "    <tr>\n",
       "      <th>19</th>\n",
       "      <td>000</td>\n",
       "      <td>98</td>\n",
       "      <td>noumea</td>\n",
       "      <td>7.0</td>\n",
       "      <td>12.0</td>\n",
       "      <td>2016.0</td>\n",
       "      <td>5.136680</td>\n",
       "      <td>4.612794</td>\n",
       "      <td>5.618396</td>\n",
       "      <td>6.336188</td>\n",
       "      <td>6.130012</td>\n",
       "      <td>6.982819</td>\n",
       "      <td>5.441673</td>\n",
       "      <td>5.070596</td>\n",
       "      <td>5.781046</td>\n",
       "      <td>0.0</td>\n",
       "    </tr>\n",
       "    <tr>\n",
       "      <th>24</th>\n",
       "      <td>000</td>\n",
       "      <td>98</td>\n",
       "      <td>noumea</td>\n",
       "      <td>0.0</td>\n",
       "      <td>12.0</td>\n",
       "      <td>2016.0</td>\n",
       "      <td>5.136680</td>\n",
       "      <td>4.612794</td>\n",
       "      <td>5.618396</td>\n",
       "      <td>6.336188</td>\n",
       "      <td>6.130012</td>\n",
       "      <td>6.982819</td>\n",
       "      <td>5.441673</td>\n",
       "      <td>5.070596</td>\n",
       "      <td>5.781046</td>\n",
       "      <td>0.0</td>\n",
       "    </tr>\n",
       "    <tr>\n",
       "      <th>30</th>\n",
       "      <td>000</td>\n",
       "      <td>98</td>\n",
       "      <td>noumea cedex</td>\n",
       "      <td>7.5</td>\n",
       "      <td>12.0</td>\n",
       "      <td>2016.0</td>\n",
       "      <td>5.136680</td>\n",
       "      <td>4.612794</td>\n",
       "      <td>5.618396</td>\n",
       "      <td>0.000000</td>\n",
       "      <td>0.000000</td>\n",
       "      <td>0.000000</td>\n",
       "      <td>5.441673</td>\n",
       "      <td>5.070596</td>\n",
       "      <td>5.781046</td>\n",
       "      <td>0.0</td>\n",
       "    </tr>\n",
       "    <tr>\n",
       "      <th>...</th>\n",
       "      <td>...</td>\n",
       "      <td>...</td>\n",
       "      <td>...</td>\n",
       "      <td>...</td>\n",
       "      <td>...</td>\n",
       "      <td>...</td>\n",
       "      <td>...</td>\n",
       "      <td>...</td>\n",
       "      <td>...</td>\n",
       "      <td>...</td>\n",
       "      <td>...</td>\n",
       "      <td>...</td>\n",
       "      <td>...</td>\n",
       "      <td>...</td>\n",
       "      <td>...</td>\n",
       "      <td>...</td>\n",
       "    </tr>\n",
       "    <tr>\n",
       "      <th>1495914</th>\n",
       "      <td>332</td>\n",
       "      <td>17</td>\n",
       "      <td>miribel</td>\n",
       "      <td>7.0</td>\n",
       "      <td>12.0</td>\n",
       "      <td>2013.0</td>\n",
       "      <td>5.017313</td>\n",
       "      <td>4.556978</td>\n",
       "      <td>5.477661</td>\n",
       "      <td>5.409351</td>\n",
       "      <td>4.673335</td>\n",
       "      <td>5.938570</td>\n",
       "      <td>5.000004</td>\n",
       "      <td>4.392755</td>\n",
       "      <td>5.503141</td>\n",
       "      <td>0.0</td>\n",
       "    </tr>\n",
       "    <tr>\n",
       "      <th>1495915</th>\n",
       "      <td>332</td>\n",
       "      <td>17</td>\n",
       "      <td>miribel</td>\n",
       "      <td>7.0</td>\n",
       "      <td>12.0</td>\n",
       "      <td>2014.0</td>\n",
       "      <td>5.017313</td>\n",
       "      <td>4.556978</td>\n",
       "      <td>5.477661</td>\n",
       "      <td>5.409351</td>\n",
       "      <td>4.673335</td>\n",
       "      <td>5.938570</td>\n",
       "      <td>5.000004</td>\n",
       "      <td>4.392755</td>\n",
       "      <td>5.503141</td>\n",
       "      <td>0.0</td>\n",
       "    </tr>\n",
       "    <tr>\n",
       "      <th>1495916</th>\n",
       "      <td>332</td>\n",
       "      <td>17</td>\n",
       "      <td>miribel</td>\n",
       "      <td>7.0</td>\n",
       "      <td>12.0</td>\n",
       "      <td>2015.0</td>\n",
       "      <td>5.017313</td>\n",
       "      <td>4.556978</td>\n",
       "      <td>5.477661</td>\n",
       "      <td>5.409351</td>\n",
       "      <td>4.673335</td>\n",
       "      <td>5.938570</td>\n",
       "      <td>5.000004</td>\n",
       "      <td>4.392755</td>\n",
       "      <td>5.503141</td>\n",
       "      <td>0.0</td>\n",
       "    </tr>\n",
       "    <tr>\n",
       "      <th>1495917</th>\n",
       "      <td>332</td>\n",
       "      <td>17</td>\n",
       "      <td>miribel</td>\n",
       "      <td>7.0</td>\n",
       "      <td>12.0</td>\n",
       "      <td>2015.0</td>\n",
       "      <td>5.017313</td>\n",
       "      <td>4.556978</td>\n",
       "      <td>5.477661</td>\n",
       "      <td>5.409351</td>\n",
       "      <td>4.673335</td>\n",
       "      <td>5.938570</td>\n",
       "      <td>5.000004</td>\n",
       "      <td>4.392755</td>\n",
       "      <td>5.503141</td>\n",
       "      <td>0.0</td>\n",
       "    </tr>\n",
       "    <tr>\n",
       "      <th>1495918</th>\n",
       "      <td>332</td>\n",
       "      <td>17</td>\n",
       "      <td>miribel</td>\n",
       "      <td>7.0</td>\n",
       "      <td>12.0</td>\n",
       "      <td>2016.0</td>\n",
       "      <td>5.017313</td>\n",
       "      <td>4.556978</td>\n",
       "      <td>5.477661</td>\n",
       "      <td>5.409351</td>\n",
       "      <td>4.673335</td>\n",
       "      <td>5.938570</td>\n",
       "      <td>5.000004</td>\n",
       "      <td>4.392755</td>\n",
       "      <td>5.503141</td>\n",
       "      <td>0.0</td>\n",
       "    </tr>\n",
       "  </tbody>\n",
       "</table>\n",
       "<p>299947 rows × 16 columns</p>\n",
       "</div>"
      ],
      "text/plain": [
       "        Activity_code (APE) Zipcode  ... zip_fan_0.75  FAN\n",
       "2                       000      98  ...     5.781046  0.0\n",
       "16                      000      98  ...     5.781046  0.0\n",
       "19                      000      98  ...     5.781046  0.0\n",
       "24                      000      98  ...     5.781046  0.0\n",
       "30                      000      98  ...     5.781046  0.0\n",
       "...                     ...     ...  ...          ...  ...\n",
       "1495914                 332      17  ...     5.503141  0.0\n",
       "1495915                 332      17  ...     5.503141  0.0\n",
       "1495916                 332      17  ...     5.503141  0.0\n",
       "1495917                 332      17  ...     5.503141  0.0\n",
       "1495918                 332      17  ...     5.503141  0.0\n",
       "\n",
       "[299947 rows x 16 columns]"
      ]
     },
     "execution_count": 87,
     "metadata": {
      "tags": []
     },
     "output_type": "execute_result"
    }
   ],
   "source": [
    "X_test"
   ]
  },
  {
   "cell_type": "code",
   "execution_count": 20,
   "metadata": {
    "colab": {
     "base_uri": "https://localhost:8080/",
     "height": 292
    },
    "colab_type": "code",
    "executionInfo": {
     "elapsed": 7233,
     "status": "ok",
     "timestamp": 1575060891137,
     "user": {
      "displayName": "Pierre Adeikalam",
      "photoUrl": "https://lh5.googleusercontent.com/-ajsLuZ1nxZ0/AAAAAAAAAAI/AAAAAAAAAkg/mDSbWKpnT8s/s64/photo.jpg",
      "userId": "13583412382080420095"
     },
     "user_tz": -60
    },
    "id": "6ydGmIsDTkUF",
    "outputId": "0bcd7826-ed2c-4520-80fb-b774db69bd83"
   },
   "outputs": [
    {
     "name": "stdout",
     "output_type": "stream",
     "text": [
      "Collecting category_encoders\n",
      "\u001b[?25l  Downloading https://files.pythonhosted.org/packages/a0/52/c54191ad3782de633ea3d6ee3bb2837bda0cf3bc97644bb6375cf14150a0/category_encoders-2.1.0-py2.py3-none-any.whl (100kB)\n",
      "\r",
      "\u001b[K     |███▎                            | 10kB 20.8MB/s eta 0:00:01\r",
      "\u001b[K     |██████▌                         | 20kB 1.7MB/s eta 0:00:01\r",
      "\u001b[K     |█████████▉                      | 30kB 2.6MB/s eta 0:00:01\r",
      "\u001b[K     |█████████████                   | 40kB 1.7MB/s eta 0:00:01\r",
      "\u001b[K     |████████████████▍               | 51kB 2.1MB/s eta 0:00:01\r",
      "\u001b[K     |███████████████████▋            | 61kB 2.5MB/s eta 0:00:01\r",
      "\u001b[K     |██████████████████████▉         | 71kB 2.9MB/s eta 0:00:01\r",
      "\u001b[K     |██████████████████████████▏     | 81kB 3.3MB/s eta 0:00:01\r",
      "\u001b[K     |█████████████████████████████▍  | 92kB 3.7MB/s eta 0:00:01\r",
      "\u001b[K     |████████████████████████████████| 102kB 2.4MB/s \n",
      "\u001b[?25hRequirement already satisfied: statsmodels>=0.6.1 in /usr/local/lib/python3.6/dist-packages (from category_encoders) (0.10.1)\n",
      "Requirement already satisfied: pandas>=0.21.1 in /usr/local/lib/python3.6/dist-packages (from category_encoders) (0.25.3)\n",
      "Requirement already satisfied: scikit-learn>=0.20.0 in /usr/local/lib/python3.6/dist-packages (from category_encoders) (0.21.3)\n",
      "Requirement already satisfied: patsy>=0.4.1 in /usr/local/lib/python3.6/dist-packages (from category_encoders) (0.5.1)\n",
      "Requirement already satisfied: scipy>=0.19.0 in /usr/local/lib/python3.6/dist-packages (from category_encoders) (1.3.2)\n",
      "Requirement already satisfied: numpy>=1.11.3 in /usr/local/lib/python3.6/dist-packages (from category_encoders) (1.17.4)\n",
      "Requirement already satisfied: pytz>=2017.2 in /usr/local/lib/python3.6/dist-packages (from pandas>=0.21.1->category_encoders) (2018.9)\n",
      "Requirement already satisfied: python-dateutil>=2.6.1 in /usr/local/lib/python3.6/dist-packages (from pandas>=0.21.1->category_encoders) (2.6.1)\n",
      "Requirement already satisfied: joblib>=0.11 in /usr/local/lib/python3.6/dist-packages (from scikit-learn>=0.20.0->category_encoders) (0.14.0)\n",
      "Requirement already satisfied: six in /usr/local/lib/python3.6/dist-packages (from patsy>=0.4.1->category_encoders) (1.12.0)\n",
      "Installing collected packages: category-encoders\n",
      "Successfully installed category-encoders-2.1.0\n"
     ]
    }
   ],
   "source": [
    "!pip install category_encoders"
   ]
  },
  {
   "cell_type": "code",
   "execution_count": null,
   "metadata": {
    "colab": {},
    "colab_type": "code",
    "id": "L4CrfjmP3vaU"
   },
   "outputs": [],
   "source": [
    "from sklearn.linear_model import LinearRegression\n",
    "from sklearn.svm import SVR\n",
    "from sklearn.preprocessing import PolynomialFeatures, OneHotEncoder, StandardScaler, OrdinalEncoder\n",
    "from sklearn.linear_model import Lasso\n",
    "from sklearn.experimental import enable_hist_gradient_boosting\n",
    "from sklearn.ensemble import HistGradientBoostingRegressor\n",
    "from sklearn.model_selection import GridSearchCV\n",
    "import category_encoders as ce"
   ]
  },
  {
   "cell_type": "code",
   "execution_count": 30,
   "metadata": {
    "colab": {
     "base_uri": "https://localhost:8080/",
     "height": 34
    },
    "colab_type": "code",
    "executionInfo": {
     "elapsed": 1357,
     "status": "ok",
     "timestamp": 1575061039392,
     "user": {
      "displayName": "Pierre Adeikalam",
      "photoUrl": "https://lh5.googleusercontent.com/-ajsLuZ1nxZ0/AAAAAAAAAAI/AAAAAAAAAkg/mDSbWKpnT8s/s64/photo.jpg",
      "userId": "13583412382080420095"
     },
     "user_tz": -60
    },
    "id": "hVE4QeUu8xHE",
    "outputId": "44f7d66a-6d2f-4d3d-fe8a-4251e2f3acb0"
   },
   "outputs": [
    {
     "data": {
      "text/plain": [
       "(1196001, 17)"
      ]
     },
     "execution_count": 30,
     "metadata": {
      "tags": []
     },
     "output_type": "execute_result"
    }
   ],
   "source": [
    "np.concatenate([num, cat], axis = 1).shape"
   ]
  },
  {
   "cell_type": "code",
   "execution_count": null,
   "metadata": {
    "colab": {},
    "colab_type": "code",
    "id": "JPEWxkeB3vaW"
   },
   "outputs": [],
   "source": [
    "from scipy import sparse\n",
    "\n",
    "count_enc = ce.CountEncoder()\n",
    "scaler = StandardScaler()\n",
    "\n",
    "\n",
    "cat = X_train[to_dummy]\n",
    "num = X_train.drop(to_dummy, axis = 1)\n",
    "\n",
    "num_columns = num.columns\n",
    "num = scaler.fit_transform(num)\n",
    "cat = count_enc.fit_transform(cat)\n",
    "\n",
    "X_train = np.concatenate([num, cat], axis = 1)\n",
    "\n",
    "\n",
    "cat = X_test[to_dummy]\n",
    "num = X_test.drop(to_dummy, axis = 1)\n",
    "\n",
    "num = scaler.transform(num)\n",
    "cat = count_enc.transform(cat)\n",
    "\n",
    "X_test = np.concatenate([num, cat.fillna(0)], axis = 1)\n",
    "\n",
    "\n",
    "#poly = PolynomialFeatures(degree = 2)\n",
    "\n",
    "#X_train = poly.fit_transform(X_train)\n",
    "\n",
    "#X_test = X_test.to_numpy()\n",
    "#X_test = scaler.transform(X_test)\n",
    "#X_test = poly.transform(X_test)\n"
   ]
  },
  {
   "cell_type": "code",
   "execution_count": 93,
   "metadata": {
    "colab": {
     "base_uri": "https://localhost:8080/",
     "height": 221
    },
    "colab_type": "code",
    "executionInfo": {
     "elapsed": 1410,
     "status": "ok",
     "timestamp": 1575062099103,
     "user": {
      "displayName": "Pierre Adeikalam",
      "photoUrl": "https://lh5.googleusercontent.com/-ajsLuZ1nxZ0/AAAAAAAAAAI/AAAAAAAAAkg/mDSbWKpnT8s/s64/photo.jpg",
      "userId": "13583412382080420095"
     },
     "user_tz": -60
    },
    "id": "7G3nWpjy__U9",
    "outputId": "1f15ca64-709b-4c98-91c8-74e397463cbe"
   },
   "outputs": [
    {
     "data": {
      "text/plain": [
       "111159.0    28083\n",
       "17657.0      4458\n",
       "14381.0      3615\n",
       "10933.0      2632\n",
       "3.0          2232\n",
       "            ...  \n",
       "284.0          61\n",
       "324.0          53\n",
       "230.0          49\n",
       "180.0          45\n",
       "274.0          42\n",
       "Name: City, Length: 699, dtype: int64"
      ]
     },
     "execution_count": 93,
     "metadata": {
      "tags": []
     },
     "output_type": "execute_result"
    }
   ],
   "source": [
    "cat['City'].value_counts()"
   ]
  },
  {
   "cell_type": "code",
   "execution_count": 46,
   "metadata": {
    "colab": {
     "base_uri": "https://localhost:8080/",
     "height": 102
    },
    "colab_type": "code",
    "executionInfo": {
     "elapsed": 1422,
     "status": "ok",
     "timestamp": 1575061494148,
     "user": {
      "displayName": "Pierre Adeikalam",
      "photoUrl": "https://lh5.googleusercontent.com/-ajsLuZ1nxZ0/AAAAAAAAAAI/AAAAAAAAAkg/mDSbWKpnT8s/s64/photo.jpg",
      "userId": "13583412382080420095"
     },
     "user_tz": -60
    },
    "id": "PmBk656u-uEx",
    "outputId": "3defd758-2c7f-4c06-bffd-b0b9343c1469"
   },
   "outputs": [
    {
     "data": {
      "text/plain": [
       "array([3.92525128e+02, 0.00000000e+00, 5.61695820e+00, 6.92823957e+00,\n",
       "       7.34198964e+00, 2.62799244e+00, 2.88051274e+00, 2.36842097e+00,\n",
       "       1.09992043e+00, 2.04915340e+00, 1.01923675e+00, 1.10385582e+01,\n",
       "       6.40040000e+04, 9.79840000e+04, 2.01800000e+03, 1.11159000e+05,\n",
       "       1.97851000e+05])"
      ]
     },
     "execution_count": 46,
     "metadata": {
      "tags": []
     },
     "output_type": "execute_result"
    }
   ],
   "source": [
    "X_train.max(axis = 0)"
   ]
  },
  {
   "cell_type": "code",
   "execution_count": 47,
   "metadata": {
    "colab": {
     "base_uri": "https://localhost:8080/",
     "height": 85
    },
    "colab_type": "code",
    "executionInfo": {
     "elapsed": 1373,
     "status": "ok",
     "timestamp": 1575061501221,
     "user": {
      "displayName": "Pierre Adeikalam",
      "photoUrl": "https://lh5.googleusercontent.com/-ajsLuZ1nxZ0/AAAAAAAAAAI/AAAAAAAAAkg/mDSbWKpnT8s/s64/photo.jpg",
      "userId": "13583412382080420095"
     },
     "user_tz": -60
    },
    "id": "bHfhz-z3-iTx",
    "outputId": "131ad07d-b7f9-4b1f-d7e5-bea4491898b6"
   },
   "outputs": [
    {
     "name": "stdout",
     "output_type": "stream",
     "text": [
      "[330.30959813   0.           0.           0.           0.\n",
      "   0.           0.           0.           0.           0.3940158\n",
      "   0.           0.9361769           nan   0.           0.\n",
      "          nan          nan]\n"
     ]
    }
   ],
   "source": [
    "print(X_train.max(axis = 0) - X_test.max(axis = 0))"
   ]
  },
  {
   "cell_type": "code",
   "execution_count": 107,
   "metadata": {
    "colab": {
     "base_uri": "https://localhost:8080/",
     "height": 102
    },
    "colab_type": "code",
    "executionInfo": {
     "elapsed": 638,
     "status": "ok",
     "timestamp": 1575062237336,
     "user": {
      "displayName": "Pierre Adeikalam",
      "photoUrl": "https://lh5.googleusercontent.com/-ajsLuZ1nxZ0/AAAAAAAAAAI/AAAAAAAAAkg/mDSbWKpnT8s/s64/photo.jpg",
      "userId": "13583412382080420095"
     },
     "user_tz": -60
    },
    "id": "koUlkHYc-W3w",
    "outputId": "e04669dc-6975-465e-f7c4-241cb0093e84"
   },
   "outputs": [
    {
     "name": "stdout",
     "output_type": "stream",
     "text": [
      "[6.22155295e+01 0.00000000e+00 5.61695820e+00 6.92823957e+00\n",
      " 7.34198964e+00 2.62799244e+00 2.88051274e+00 2.36842097e+00\n",
      " 1.09992043e+00 1.65513761e+00 1.01923675e+00 1.01023813e+01\n",
      " 6.40040000e+04 9.79840000e+04 2.01800000e+03 1.11159000e+05\n",
      " 1.97851000e+05]\n"
     ]
    }
   ],
   "source": [
    "print(X_test.max(axis = 0))"
   ]
  },
  {
   "cell_type": "code",
   "execution_count": 110,
   "metadata": {
    "colab": {
     "base_uri": "https://localhost:8080/",
     "height": 51
    },
    "colab_type": "code",
    "executionInfo": {
     "elapsed": 23294,
     "status": "ok",
     "timestamp": 1575039530774,
     "user": {
      "displayName": "Pierre Adeikalam",
      "photoUrl": "https://lh5.googleusercontent.com/-ajsLuZ1nxZ0/AAAAAAAAAAI/AAAAAAAAAkg/mDSbWKpnT8s/s64/photo.jpg",
      "userId": "13583412382080420095"
     },
     "user_tz": -60
    },
    "id": "2E93J8hvBdzA",
    "outputId": "1d31f367-65b9-41d5-a762-1f5d4ffe2544"
   },
   "outputs": [
    {
     "name": "stdout",
     "output_type": "stream",
     "text": [
      "0.3407908284574572\n",
      "21.931803226470947\n"
     ]
    }
   ],
   "source": [
    "t = time.time()\n",
    "gb = HistGradientBoostingRegressor(max_iter = 200, max_leaf_nodes = 50)\n",
    "#gb.fit(X_train, y_train)\n",
    "\n",
    "print(np.mean(cross_val_score(gb, X_train, y_train, cv=3, n_jobs=-1, scoring=fan_score)))\n",
    "print(time.time() - t)"
   ]
  },
  {
   "cell_type": "code",
   "execution_count": 0,
   "metadata": {
    "colab": {},
    "colab_type": "code",
    "id": "eYm72j_nVGHr"
   },
   "outputs": [],
   "source": [
    "def nplogloss(ytrue, ypreds, **kwargs):\n",
    "    score1 = np.max([5 * np.ones(len(ytrue)), ypreds], axis = 0)\n",
    "    score2 = np.max([5 * np.ones(len(ytrue)), ytrue], axis = 0)\n",
    "    score = np.abs(score1 - score2)\n",
    "  return np.mean(score)"
   ]
  },
  {
   "cell_type": "code",
   "execution_count": 36,
   "metadata": {
    "colab": {
     "base_uri": "https://localhost:8080/",
     "height": 394
    },
    "colab_type": "code",
    "executionInfo": {
     "elapsed": 158331,
     "status": "ok",
     "timestamp": 1575061347498,
     "user": {
      "displayName": "Pierre Adeikalam",
      "photoUrl": "https://lh5.googleusercontent.com/-ajsLuZ1nxZ0/AAAAAAAAAAI/AAAAAAAAAkg/mDSbWKpnT8s/s64/photo.jpg",
      "userId": "13583412382080420095"
     },
     "user_tz": -60
    },
    "id": "4glcIV6_VaYX",
    "outputId": "be89ecdb-b45d-4713-c1b0-cfd0592359ee"
   },
   "outputs": [
    {
     "name": "stderr",
     "output_type": "stream",
     "text": [
      "/usr/local/lib/python3.6/dist-packages/sklearn/model_selection/_split.py:1978: FutureWarning: The default value of cv will change from 3 to 5 in version 0.22. Specify it explicitly to silence this warning.\n",
      "  warnings.warn(CV_WARNING, FutureWarning)\n"
     ]
    },
    {
     "data": {
      "text/plain": [
       "GridSearchCV(cv='warn', error_score='raise-deprecating',\n",
       "             estimator=HistGradientBoostingRegressor(l2_regularization=0.0,\n",
       "                                                     learning_rate=0.1,\n",
       "                                                     loss='least_squares',\n",
       "                                                     max_bins=256,\n",
       "                                                     max_depth=None,\n",
       "                                                     max_iter=100,\n",
       "                                                     max_leaf_nodes=31,\n",
       "                                                     min_samples_leaf=20,\n",
       "                                                     n_iter_no_change=None,\n",
       "                                                     random_state=None,\n",
       "                                                     scoring=None, tol=1e-07,\n",
       "                                                     validation_fraction=0.1,\n",
       "                                                     verbose=0),\n",
       "             iid='warn', n_jobs=-1,\n",
       "             param_grid={'max_depth': [189], 'max_iter': [262],\n",
       "                         'max_leaf_nodes': [277], 'min_samples_leaf': [1133]},\n",
       "             pre_dispatch='2*n_jobs', refit=True, return_train_score=False,\n",
       "             scoring=make_scorer(nplogloss), verbose=0)"
      ]
     },
     "execution_count": 36,
     "metadata": {
      "tags": []
     },
     "output_type": "execute_result"
    }
   ],
   "source": [
    "from sklearn.metrics import make_scorer\n",
    "\n",
    "fan_score = make_scorer(nplogloss)\n",
    "\n",
    "param_grid = {'max_depth': [189], 'max_iter': [262], 'max_leaf_nodes': [277], 'min_samples_leaf': [1133]}\n",
    "\n",
    "gb = HistGradientBoostingRegressor()\n",
    "\n",
    "grid = GridSearchCV(gb, param_grid, n_jobs = -1, scoring = fan_score)\n",
    "grid.fit(X_train, y_train)\n"
   ]
  },
  {
   "cell_type": "code",
   "execution_count": 109,
   "metadata": {
    "colab": {
     "base_uri": "https://localhost:8080/",
     "height": 34
    },
    "colab_type": "code",
    "executionInfo": {
     "elapsed": 3529,
     "status": "ok",
     "timestamp": 1575062259734,
     "user": {
      "displayName": "Pierre Adeikalam",
      "photoUrl": "https://lh5.googleusercontent.com/-ajsLuZ1nxZ0/AAAAAAAAAAI/AAAAAAAAAkg/mDSbWKpnT8s/s64/photo.jpg",
      "userId": "13583412382080420095"
     },
     "user_tz": -60
    },
    "id": "JVAcL6i4YkLo",
    "outputId": "21ef4963-40fe-4ff6-af8f-a34a2d7cba98"
   },
   "outputs": [
    {
     "data": {
      "text/plain": [
       "0.312371300296498"
      ]
     },
     "execution_count": 109,
     "metadata": {
      "tags": []
     },
     "output_type": "execute_result"
    }
   ],
   "source": [
    "y_pred = grid.best_estimator_.predict(X_test)\n",
    "\n",
    "nplogloss(y_test, y_pred)"
   ]
  },
  {
   "cell_type": "code",
   "execution_count": 100,
   "metadata": {
    "colab": {
     "base_uri": "https://localhost:8080/",
     "height": 972
    },
    "colab_type": "code",
    "executionInfo": {
     "elapsed": 12205,
     "status": "ok",
     "timestamp": 1575039047044,
     "user": {
      "displayName": "Pierre Adeikalam",
      "photoUrl": "https://lh5.googleusercontent.com/-ajsLuZ1nxZ0/AAAAAAAAAAI/AAAAAAAAAkg/mDSbWKpnT8s/s64/photo.jpg",
      "userId": "13583412382080420095"
     },
     "user_tz": -60
    },
    "id": "ZwOFK7YrpFVF",
    "outputId": "aed595a5-9e76-43f2-8e1a-9554ce2445f9"
   },
   "outputs": [
    {
     "name": "stdout",
     "output_type": "stream",
     "text": [
      "Collecting optuna\n",
      "\u001b[?25l  Downloading https://files.pythonhosted.org/packages/d4/6a/4d80b3014797cf318a5252afb27031e9e7502854fb7930f27db0ee10bb75/optuna-0.19.0.tar.gz (126kB)\n",
      "\u001b[K     |████████████████████████████████| 133kB 2.8MB/s \n",
      "\u001b[?25hCollecting alembic\n",
      "\u001b[?25l  Downloading https://files.pythonhosted.org/packages/84/64/493c45119dce700a4b9eeecc436ef9e8835ab67bae6414f040cdc7b58f4b/alembic-1.3.1.tar.gz (1.1MB)\n",
      "\u001b[K     |████████████████████████████████| 1.1MB 66.8MB/s \n",
      "\u001b[?25hCollecting cliff\n",
      "\u001b[?25l  Downloading https://files.pythonhosted.org/packages/f6/a9/e976ba91e57043c4b6add2c394e6d1ffc26712c694379c3fe72f942d2440/cliff-2.16.0-py2.py3-none-any.whl (78kB)\n",
      "\u001b[K     |████████████████████████████████| 81kB 11.8MB/s \n",
      "\u001b[?25hCollecting colorlog\n",
      "  Downloading https://files.pythonhosted.org/packages/68/4d/892728b0c14547224f0ac40884e722a3d00cb54e7a146aea0b3186806c9e/colorlog-4.0.2-py2.py3-none-any.whl\n",
      "Requirement already satisfied: numpy in /usr/local/lib/python3.6/dist-packages (from optuna) (1.17.4)\n",
      "Requirement already satisfied: scipy in /usr/local/lib/python3.6/dist-packages (from optuna) (1.3.2)\n",
      "Requirement already satisfied: six in /usr/local/lib/python3.6/dist-packages (from optuna) (1.12.0)\n",
      "Requirement already satisfied: sqlalchemy>=1.1.0 in /usr/local/lib/python3.6/dist-packages (from optuna) (1.3.11)\n",
      "Requirement already satisfied: tqdm in /usr/local/lib/python3.6/dist-packages (from optuna) (4.28.1)\n",
      "Requirement already satisfied: typing in /usr/local/lib/python3.6/dist-packages (from optuna) (3.6.6)\n",
      "Collecting Mako\n",
      "\u001b[?25l  Downloading https://files.pythonhosted.org/packages/b0/3c/8dcd6883d009f7cae0f3157fb53e9afb05a0d3d33b3db1268ec2e6f4a56b/Mako-1.1.0.tar.gz (463kB)\n",
      "\u001b[K     |████████████████████████████████| 471kB 61.3MB/s \n",
      "\u001b[?25hCollecting python-editor>=0.3\n",
      "  Downloading https://files.pythonhosted.org/packages/c6/d3/201fc3abe391bbae6606e6f1d598c15d367033332bd54352b12f35513717/python_editor-1.0.4-py3-none-any.whl\n",
      "Requirement already satisfied: python-dateutil in /usr/local/lib/python3.6/dist-packages (from alembic->optuna) (2.6.1)\n",
      "Requirement already satisfied: pyparsing>=2.1.0 in /usr/local/lib/python3.6/dist-packages (from cliff->optuna) (2.4.5)\n",
      "Requirement already satisfied: PyYAML>=3.12 in /usr/local/lib/python3.6/dist-packages (from cliff->optuna) (3.13)\n",
      "Requirement already satisfied: PrettyTable<0.8,>=0.7.2 in /usr/local/lib/python3.6/dist-packages (from cliff->optuna) (0.7.2)\n",
      "Collecting stevedore>=1.20.0\n",
      "\u001b[?25l  Downloading https://files.pythonhosted.org/packages/b1/e1/f5ddbd83f60b03f522f173c03e406c1bff8343f0232a292ac96aa633b47a/stevedore-1.31.0-py2.py3-none-any.whl (43kB)\n",
      "\u001b[K     |████████████████████████████████| 51kB 8.0MB/s \n",
      "\u001b[?25hCollecting cmd2!=0.8.3,<0.9.0,>=0.8.0\n",
      "\u001b[?25l  Downloading https://files.pythonhosted.org/packages/e9/40/a71caa2aaff10c73612a7106e2d35f693e85b8cf6e37ab0774274bca3cf9/cmd2-0.8.9-py2.py3-none-any.whl (53kB)\n",
      "\u001b[K     |████████████████████████████████| 61kB 8.8MB/s \n",
      "\u001b[?25hCollecting pbr!=2.1.0,>=2.0.0\n",
      "\u001b[?25l  Downloading https://files.pythonhosted.org/packages/7a/db/a968fd7beb9fe06901c1841cb25c9ccb666ca1b9a19b114d1bbedf1126fc/pbr-5.4.4-py2.py3-none-any.whl (110kB)\n",
      "\u001b[K     |████████████████████████████████| 112kB 71.4MB/s \n",
      "\u001b[?25hRequirement already satisfied: MarkupSafe>=0.9.2 in /usr/local/lib/python3.6/dist-packages (from Mako->alembic->optuna) (1.1.1)\n",
      "Requirement already satisfied: wcwidth; sys_platform != \"win32\" in /usr/local/lib/python3.6/dist-packages (from cmd2!=0.8.3,<0.9.0,>=0.8.0->cliff->optuna) (0.1.7)\n",
      "Collecting pyperclip\n",
      "  Downloading https://files.pythonhosted.org/packages/2d/0f/4eda562dffd085945d57c2d9a5da745cfb5228c02bc90f2c74bbac746243/pyperclip-1.7.0.tar.gz\n",
      "Building wheels for collected packages: optuna, alembic, Mako, pyperclip\n",
      "  Building wheel for optuna (setup.py) ... \u001b[?25l\u001b[?25hdone\n",
      "  Created wheel for optuna: filename=optuna-0.19.0-cp36-none-any.whl size=170198 sha256=273fae5e7015083bf2c4730fb398601225982871c93b56a708d5b01bc0b76477\n",
      "  Stored in directory: /root/.cache/pip/wheels/49/bf/47/090a43457caeff74397397da1c98a8aaed685257c16a5ba1f0\n",
      "  Building wheel for alembic (setup.py) ... \u001b[?25l\u001b[?25hdone\n",
      "  Created wheel for alembic: filename=alembic-1.3.1-py2.py3-none-any.whl size=144523 sha256=ff25cc8eee1bc2adfcc6c932e2a633fc6e864a44d74c9a45c8ef12ff2079a8ab\n",
      "  Stored in directory: /root/.cache/pip/wheels/b2/d4/19/5ab879d30af7cbc79e6dcc1d421795b1aa9d78f455b0412ef7\n",
      "  Building wheel for Mako (setup.py) ... \u001b[?25l\u001b[?25hdone\n",
      "  Created wheel for Mako: filename=Mako-1.1.0-cp36-none-any.whl size=75363 sha256=1776a0184b89faf90c9695973da639815da071be9175041030da240c8f159796\n",
      "  Stored in directory: /root/.cache/pip/wheels/98/32/7b/a291926643fc1d1e02593e0d9e247c5a866a366b8343b7aa27\n",
      "  Building wheel for pyperclip (setup.py) ... \u001b[?25l\u001b[?25hdone\n",
      "  Created wheel for pyperclip: filename=pyperclip-1.7.0-cp36-none-any.whl size=8359 sha256=f53adbcc70bfe90182b42ef2a504ec8b21c5c96ed6d1c1ef72b5d8be84691528\n",
      "  Stored in directory: /root/.cache/pip/wheels/92/f0/ac/2ba2972034e98971c3654ece337ac61e546bdeb34ca960dc8c\n",
      "Successfully built optuna alembic Mako pyperclip\n",
      "Installing collected packages: Mako, python-editor, alembic, pbr, stevedore, pyperclip, cmd2, cliff, colorlog, optuna\n",
      "Successfully installed Mako-1.1.0 alembic-1.3.1 cliff-2.16.0 cmd2-0.8.9 colorlog-4.0.2 optuna-0.19.0 pbr-5.4.4 pyperclip-1.7.0 python-editor-1.0.4 stevedore-1.31.0\n"
     ]
    }
   ],
   "source": [
    "!pip install optuna"
   ]
  },
  {
   "cell_type": "code",
   "execution_count": 134,
   "metadata": {
    "colab": {
     "base_uri": "https://localhost:8080/",
     "height": 238
    },
    "colab_type": "code",
    "executionInfo": {
     "elapsed": 536704,
     "status": "ok",
     "timestamp": 1575045746692,
     "user": {
      "displayName": "Pierre Adeikalam",
      "photoUrl": "https://lh5.googleusercontent.com/-ajsLuZ1nxZ0/AAAAAAAAAAI/AAAAAAAAAkg/mDSbWKpnT8s/s64/photo.jpg",
      "userId": "13583412382080420095"
     },
     "user_tz": -60
    },
    "id": "K4VzpwTIn4Bx",
    "outputId": "89e801fb-e276-4896-850d-715ca4c7249b"
   },
   "outputs": [
    {
     "name": "stdout",
     "output_type": "stream",
     "text": [
      "1\n",
      "2\n",
      "3\n",
      "4\n",
      "5\n",
      "6\n",
      "7\n",
      "8\n",
      "9\n",
      "10\n",
      "535.1719923019409\n",
      "{'max_depth': 189, 'max_iter': 262, 'max_leaf_nodes': 277, 'min_samples_leaf': 1133}\n",
      "0.3199384536349402\n"
     ]
    }
   ],
   "source": [
    "t = time.time()\n",
    "import optuna\n",
    "from sklearn.model_selection import cross_val_score\n",
    "\n",
    "param_grid = {'max_depth': 189, 'max_iter': 262, 'max_leaf_nodes': 277, 'min_samples_leaf': 1133}\n",
    "\n",
    "count = 0\n",
    "def objective(trial):\n",
    "    max_depth = trial.suggest_int('max_depth', 150, 200)\n",
    "    learning_rate = 0.04\n",
    "    max_iter = trial.suggest_int('max_iter', 200, 500)\n",
    "    max_leaf_nodes = trial.suggest_int('max_leaf_nodes', 200, 500)\n",
    "    min_samples_leaf = trial.suggest_int('min_samples_leaf', 600, 1200)\n",
    "\n",
    "    reg = HistGradientBoostingRegressor(\n",
    "        max_depth=max_depth,\n",
    "        max_iter = max_iter,\n",
    "        learning_rate = learning_rate,\n",
    "        max_leaf_nodes=max_leaf_nodes,\n",
    "        min_samples_leaf=min_samples_leaf)\n",
    "    \n",
    "    reg.fit(X_train, y_train)\n",
    "    global count\n",
    "    count += 1\n",
    "    print(count)\n",
    "    \n",
    "    y_pred = reg.predict(X_test)\n",
    "    return nplogloss(y_test, y_pred)\n",
    "\n",
    "study = optuna.create_study(direction='minimize')\n",
    "optuna.logging.disable_default_handler()  # limit verbosity\n",
    "study.optimize(objective, n_trials=10)\n",
    "\n",
    "# Show best result\n",
    "print(time.time() - t)\n",
    "print(study.best_trial.params)\n",
    "print(study.best_trial.value)"
   ]
  },
  {
   "cell_type": "code",
   "execution_count": 135,
   "metadata": {
    "colab": {
     "base_uri": "https://localhost:8080/",
     "height": 238
    },
    "colab_type": "code",
    "executionInfo": {
     "elapsed": 502787,
     "status": "ok",
     "timestamp": 1575046466288,
     "user": {
      "displayName": "Pierre Adeikalam",
      "photoUrl": "https://lh5.googleusercontent.com/-ajsLuZ1nxZ0/AAAAAAAAAAI/AAAAAAAAAkg/mDSbWKpnT8s/s64/photo.jpg",
      "userId": "13583412382080420095"
     },
     "user_tz": -60
    },
    "id": "r4PKBvVKCxa0",
    "outputId": "feb225e2-83dd-4cc1-a369-6ca76684088e"
   },
   "outputs": [
    {
     "name": "stdout",
     "output_type": "stream",
     "text": [
      "1\n",
      "2\n",
      "3\n",
      "4\n",
      "5\n",
      "6\n",
      "7\n",
      "8\n",
      "9\n",
      "10\n",
      "1254.825698375702\n",
      "{'max_depth': 189, 'max_iter': 262, 'max_leaf_nodes': 277, 'min_samples_leaf': 1133}\n",
      "0.3199384536349402\n"
     ]
    }
   ],
   "source": [
    "count = 0\n",
    "def objective(trial):\n",
    "    max_depth = trial.suggest_int('max_depth', 150, 400)\n",
    "    learning_rate = 0.04\n",
    "    max_iter = trial.suggest_int('max_iter', 200, 500)\n",
    "    max_leaf_nodes = trial.suggest_int('max_leaf_nodes', 250, 500)\n",
    "    min_samples_leaf = trial.suggest_int('min_samples_leaf', 1000, 1500)\n",
    "\n",
    "    reg = HistGradientBoostingRegressor(\n",
    "        max_depth=max_depth,\n",
    "        max_iter = max_iter,\n",
    "        learning_rate = learning_rate,\n",
    "        max_leaf_nodes=max_leaf_nodes,\n",
    "        min_samples_leaf=min_samples_leaf)\n",
    "    \n",
    "    reg.fit(X_train, y_train)\n",
    "    global count\n",
    "    count += 1\n",
    "    print(count)\n",
    "    \n",
    "    y_pred = reg.predict(X_test)\n",
    "    return nplogloss(y_test, y_pred)\n",
    "\n",
    "study.optimize(objective, n_trials=10)\n",
    "\n",
    "# Show best result\n",
    "print(time.time() - t)\n",
    "print(study.best_trial.params)\n",
    "print(study.best_trial.value)"
   ]
  },
  {
   "cell_type": "code",
   "execution_count": 0,
   "metadata": {
    "colab": {},
    "colab_type": "code",
    "id": "Mx48x5e6EVlU"
   },
   "outputs": [],
   "source": [
    "train_pred = model.predict(X_train)\n",
    "nplogloss(y_train, train_pred)"
   ]
  },
  {
   "cell_type": "code",
   "execution_count": 128,
   "metadata": {
    "colab": {
     "base_uri": "https://localhost:8080/",
     "height": 598
    },
    "colab_type": "code",
    "executionInfo": {
     "elapsed": 828058,
     "status": "ok",
     "timestamp": 1575043144707,
     "user": {
      "displayName": "Pierre Adeikalam",
      "photoUrl": "https://lh5.googleusercontent.com/-ajsLuZ1nxZ0/AAAAAAAAAAI/AAAAAAAAAkg/mDSbWKpnT8s/s64/photo.jpg",
      "userId": "13583412382080420095"
     },
     "user_tz": -60
    },
    "id": "9DHjx8_h09SA",
    "outputId": "cc58e084-8e8a-493a-f66c-26c0d175c94f"
   },
   "outputs": [
    {
     "name": "stdout",
     "output_type": "stream",
     "text": [
      "11\n"
     ]
    },
    {
     "name": "stderr",
     "output_type": "stream",
     "text": [
      "/usr/local/lib/python3.6/dist-packages/sklearn/linear_model/coordinate_descent.py:475: ConvergenceWarning:\n",
      "\n",
      "Objective did not converge. You might want to increase the number of iterations. Duality gap: 36231.99236170994, tolerance: 196.28305022492643\n",
      "\n"
     ]
    },
    {
     "name": "stdout",
     "output_type": "stream",
     "text": [
      "12\n"
     ]
    },
    {
     "name": "stderr",
     "output_type": "stream",
     "text": [
      "/usr/local/lib/python3.6/dist-packages/sklearn/linear_model/coordinate_descent.py:475: ConvergenceWarning:\n",
      "\n",
      "Objective did not converge. You might want to increase the number of iterations. Duality gap: 932679.5637434745, tolerance: 196.28305022492643\n",
      "\n"
     ]
    },
    {
     "name": "stdout",
     "output_type": "stream",
     "text": [
      "13\n",
      "14\n",
      "15\n",
      "16\n"
     ]
    },
    {
     "name": "stderr",
     "output_type": "stream",
     "text": [
      "/usr/local/lib/python3.6/dist-packages/sklearn/linear_model/coordinate_descent.py:475: ConvergenceWarning:\n",
      "\n",
      "Objective did not converge. You might want to increase the number of iterations. Duality gap: 929744.797224148, tolerance: 196.28305022492643\n",
      "\n"
     ]
    },
    {
     "name": "stdout",
     "output_type": "stream",
     "text": [
      "17\n"
     ]
    },
    {
     "name": "stderr",
     "output_type": "stream",
     "text": [
      "/usr/local/lib/python3.6/dist-packages/sklearn/linear_model/coordinate_descent.py:475: ConvergenceWarning:\n",
      "\n",
      "Objective did not converge. You might want to increase the number of iterations. Duality gap: 932866.463117028, tolerance: 196.28305022492643\n",
      "\n"
     ]
    },
    {
     "name": "stdout",
     "output_type": "stream",
     "text": [
      "18\n"
     ]
    },
    {
     "name": "stderr",
     "output_type": "stream",
     "text": [
      "/usr/local/lib/python3.6/dist-packages/sklearn/linear_model/coordinate_descent.py:475: ConvergenceWarning:\n",
      "\n",
      "Objective did not converge. You might want to increase the number of iterations. Duality gap: 904594.9768903909, tolerance: 196.28305022492643\n",
      "\n"
     ]
    },
    {
     "name": "stdout",
     "output_type": "stream",
     "text": [
      "19\n",
      "20\n",
      "1523.9960489273071\n",
      "{'alpha': 0.00014375302288038665}\n",
      "0.4964610806837965\n"
     ]
    }
   ],
   "source": [
    "def objective(trial):\n",
    "    alpha = trial.suggest_loguniform('alpha', 10**-5, 10**2)\n",
    "\n",
    "    reg = Lasso(\n",
    "        alpha=alpha)\n",
    "    \n",
    "    reg.fit(X_train, y_train)\n",
    "    global count\n",
    "    count += 1\n",
    "    print(count)\n",
    "    \n",
    "    y_pred = reg.predict(X_test)\n",
    "    return nplogloss(y_test, y_pred)\n",
    "\n",
    "study = optuna.create_study(direction='minimize')\n",
    "optuna.logging.disable_default_handler()  # limit verbosity\n",
    "study.optimize(objective, n_trials=10)\n",
    "\n",
    "# Show best result\n",
    "print(time.time() - t)\n",
    "print(study.best_trial.params)\n",
    "print(study.best_trial.value)"
   ]
  },
  {
   "cell_type": "code",
   "execution_count": 113,
   "metadata": {
    "colab": {
     "base_uri": "https://localhost:8080/",
     "height": 88
    },
    "colab_type": "code",
    "executionInfo": {
     "elapsed": 1430,
     "status": "ok",
     "timestamp": 1575040312698,
     "user": {
      "displayName": "Pierre Adeikalam",
      "photoUrl": "https://lh5.googleusercontent.com/-ajsLuZ1nxZ0/AAAAAAAAAAI/AAAAAAAAAkg/mDSbWKpnT8s/s64/photo.jpg",
      "userId": "13583412382080420095"
     },
     "user_tz": -60
    },
    "id": "LCG3YEYGt8si",
    "outputId": "600e3762-2f6f-46fa-a6bf-dbdfad957bc4"
   },
   "outputs": [
    {
     "data": {
      "text/plain": [
       "[FrozenTrial(number=0, state=TrialState.COMPLETE, value=0.34727679829081054, datetime_start=datetime.datetime(2019, 11, 29, 14, 59, 36, 239672), datetime_complete=datetime.datetime(2019, 11, 29, 15, 2, 59, 138467), params={'max_depth': 17, 'learning_rate': 0.0037601359920381295, 'max_iter': 779, 'max_leaf_nodes': 134, 'min_samples_leaf': 81}, distributions={'max_depth': IntUniformDistribution(high=50, low=10), 'learning_rate': LogUniformDistribution(high=1, low=1e-05), 'max_iter': IntUniformDistribution(high=2000, low=1), 'max_leaf_nodes': IntUniformDistribution(high=200, low=2), 'min_samples_leaf': IntUniformDistribution(high=100, low=1)}, user_attrs={}, system_attrs={'_number': 0}, intermediate_values={}, trial_id=0),\n",
       " FrozenTrial(number=1, state=TrialState.COMPLETE, value=0.552077408913557, datetime_start=datetime.datetime(2019, 11, 29, 15, 2, 59, 138931), datetime_complete=datetime.datetime(2019, 11, 29, 15, 5, 2, 673427), params={'max_depth': 17, 'learning_rate': 1.4915344615518483e-05, 'max_iter': 1223, 'max_leaf_nodes': 12, 'min_samples_leaf': 67}, distributions={'max_depth': IntUniformDistribution(high=50, low=10), 'learning_rate': LogUniformDistribution(high=1, low=1e-05), 'max_iter': IntUniformDistribution(high=2000, low=1), 'max_leaf_nodes': IntUniformDistribution(high=200, low=2), 'min_samples_leaf': IntUniformDistribution(high=100, low=1)}, user_attrs={}, system_attrs={'_number': 1}, intermediate_values={}, trial_id=1),\n",
       " FrozenTrial(number=2, state=TrialState.COMPLETE, value=0.34825940158687363, datetime_start=datetime.datetime(2019, 11, 29, 15, 5, 2, 673928), datetime_complete=datetime.datetime(2019, 11, 29, 15, 5, 10, 23112), params={'max_depth': 40, 'learning_rate': 0.8039532111646551, 'max_iter': 50, 'max_leaf_nodes': 52, 'min_samples_leaf': 17}, distributions={'max_depth': IntUniformDistribution(high=50, low=10), 'learning_rate': LogUniformDistribution(high=1, low=1e-05), 'max_iter': IntUniformDistribution(high=2000, low=1), 'max_leaf_nodes': IntUniformDistribution(high=200, low=2), 'min_samples_leaf': IntUniformDistribution(high=100, low=1)}, user_attrs={}, system_attrs={'_number': 2}, intermediate_values={}, trial_id=2)]"
      ]
     },
     "execution_count": 113,
     "metadata": {
      "tags": []
     },
     "output_type": "execute_result"
    }
   ],
   "source": [
    "study.trials"
   ]
  },
  {
   "cell_type": "code",
   "execution_count": 136,
   "metadata": {
    "colab": {
     "base_uri": "https://localhost:8080/",
     "height": 282
    },
    "colab_type": "code",
    "executionInfo": {
     "elapsed": 1519,
     "status": "ok",
     "timestamp": 1575046545543,
     "user": {
      "displayName": "Pierre Adeikalam",
      "photoUrl": "https://lh5.googleusercontent.com/-ajsLuZ1nxZ0/AAAAAAAAAAI/AAAAAAAAAkg/mDSbWKpnT8s/s64/photo.jpg",
      "userId": "13583412382080420095"
     },
     "user_tz": -60
    },
    "id": "70hmeAEmt4QU",
    "outputId": "2dd4f4fa-0b34-46f9-922e-c43029dbf029"
   },
   "outputs": [
    {
     "data": {
      "text/plain": [
       "[<matplotlib.lines.Line2D at 0x7f36f7731dd8>]"
      ]
     },
     "execution_count": 136,
     "metadata": {
      "tags": []
     },
     "output_type": "execute_result"
    },
    {
     "data": {
      "image/png": "[encoded data removed]",
      "text/plain": [
       "<Figure size 432x288 with 1 Axes>"
      ]
     },
     "metadata": {
      "tags": []
     },
     "output_type": "display_data"
    }
   ],
   "source": [
    "values = [t.value for t in study.trials]\n",
    "plt.plot(values)"
   ]
  },
  {
   "cell_type": "code",
   "execution_count": 0,
   "metadata": {
    "colab": {},
    "colab_type": "code",
    "id": "_l_3Lp8z3val"
   },
   "outputs": [],
   "source": [
    "from tensorflow.keras.models import Sequential\n",
    "from tensorflow.keras.layers import Dense, BatchNormalization, Dropout, Activation\n",
    "from tensorflow.keras.optimizers import Adam, SGD\n",
    "from sklearn.preprocessing import StandardScaler\n",
    "import tensorflow.keras.backend as K\n",
    "import tensorflow as tf\n",
    "\n",
    "\n",
    "model = Sequential()\n",
    "model.add(Dense(256, input_shape = X_train.shape[1:], kernel_initializer = 'glorot_normal'))\n",
    "model.add(BatchNormalization())\n",
    "model.add(Activation('relu'))\n",
    "model.add(Dropout(0.3))\n",
    "\"\"\"\n",
    "model.add(Dense(256, kernel_initializer = 'glorot_normal'))\n",
    "model.add(BatchNormalization())\n",
    "model.add(Activation('relu'))\n",
    "model.add(Dropout(0.3))\n",
    "\n",
    "model.add(Dense(256, kernel_initializer = 'glorot_normal'))\n",
    "model.add(BatchNormalization())\n",
    "model.add(Activation('relu'))\n",
    "model.add(Dropout(0.3))\n",
    "\n",
    "model.add(Dense(512, kernel_initializer = 'glorot_normal'))\n",
    "model.add(BatchNormalization())\n",
    "model.add(Activation('relu'))\n",
    "model.add(Dropout(0.3))\n",
    "\n",
    "\"\"\"\n",
    "model.add(Dense(512, kernel_initializer = 'glorot_normal'))\n",
    "model.add(BatchNormalization())\n",
    "model.add(Activation('relu'))\n",
    "\n",
    "model.add(Dense(1, kernel_initializer = 'glorot_normal'))\n",
    "model.add(Activation('relu'))\n",
    "\n",
    "\n",
    "optimizer = Adam(lr = 1e-3)\n",
    "\n",
    "def logloss(ytrue, ypreds):\n",
    "  score1 = tf.math.maximum(5 * tf.ones(128), ypreds)\n",
    "  score2 = tf.math.maximum(5 * tf.ones(128), ytrue)\n",
    "  score = tf.math.abs(score1 - score2)\n",
    "  return tf.reduce_mean(score)\n",
    "\n",
    "\n",
    "model.compile(loss = 'mse', optimizer = optimizer, metrics = [logloss])\n",
    "\n"
   ]
  },
  {
   "cell_type": "code",
   "execution_count": 72,
   "metadata": {
    "colab": {
     "base_uri": "https://localhost:8080/",
     "height": 412
    },
    "colab_type": "code",
    "executionInfo": {
     "elapsed": 210192,
     "status": "error",
     "timestamp": 1575033334438,
     "user": {
      "displayName": "Pierre Adeikalam",
      "photoUrl": "https://lh5.googleusercontent.com/-ajsLuZ1nxZ0/AAAAAAAAAAI/AAAAAAAAAkg/mDSbWKpnT8s/s64/photo.jpg",
      "userId": "13583412382080420095"
     },
     "user_tz": -60
    },
    "id": "BolVNwVb3van",
    "outputId": "ca31d111-e4d3-4455-9e62-e4cca6c741c5",
    "scrolled": true
   },
   "outputs": [
    {
     "name": "stdout",
     "output_type": "stream",
     "text": [
      "Train on 1196001 samples, validate on 299947 samples\n",
      "Epoch 1/2\n",
      "1196001/1196001 [==============================] - 136s 114us/sample - loss: 1.5005 - logloss: 0.4903 - val_loss: 3.3059 - val_logloss: 0.5129\n",
      "Epoch 2/2\n",
      " 704384/1196001 [================>.............] - ETA: 50s - loss: 1.3531 - logloss: 0.4520"
     ]
    },
    {
     "ename": "KeyboardInterrupt",
     "evalue": "ignored",
     "output_type": "error",
     "traceback": [
      "\u001b[0;31m---------------------------------------------------------------------------\u001b[0m",
      "\u001b[0;31mKeyboardInterrupt\u001b[0m                         Traceback (most recent call last)",
      "\u001b[0;32m<ipython-input-72-b632aa472f34>\u001b[0m in \u001b[0;36m<module>\u001b[0;34m()\u001b[0m\n\u001b[0;32m----> 1\u001b[0;31m \u001b[0mmodel\u001b[0m\u001b[0;34m.\u001b[0m\u001b[0mfit\u001b[0m\u001b[0;34m(\u001b[0m\u001b[0mX_train\u001b[0m\u001b[0;34m[\u001b[0m\u001b[0;34m:\u001b[0m\u001b[0;34m]\u001b[0m\u001b[0;34m,\u001b[0m \u001b[0my_train\u001b[0m\u001b[0;34m[\u001b[0m\u001b[0;34m:\u001b[0m\u001b[0;34m]\u001b[0m\u001b[0;34m,\u001b[0m \u001b[0mepochs\u001b[0m \u001b[0;34m=\u001b[0m\u001b[0;36m2\u001b[0m\u001b[0;34m,\u001b[0m \u001b[0mbatch_size\u001b[0m \u001b[0;34m=\u001b[0m \u001b[0;36m32\u001b[0m\u001b[0;34m,\u001b[0m \u001b[0mvalidation_data\u001b[0m \u001b[0;34m=\u001b[0m \u001b[0;34m(\u001b[0m\u001b[0mX_test\u001b[0m\u001b[0;34m,\u001b[0m \u001b[0my_test\u001b[0m\u001b[0;34m)\u001b[0m\u001b[0;34m)\u001b[0m\u001b[0;34m\u001b[0m\u001b[0;34m\u001b[0m\u001b[0m\n\u001b[0m",
      "\u001b[0;32m/usr/local/lib/python3.6/dist-packages/tensorflow_core/python/keras/engine/training.py\u001b[0m in \u001b[0;36mfit\u001b[0;34m(self, x, y, batch_size, epochs, verbose, callbacks, validation_split, validation_data, shuffle, class_weight, sample_weight, initial_epoch, steps_per_epoch, validation_steps, validation_freq, max_queue_size, workers, use_multiprocessing, **kwargs)\u001b[0m\n\u001b[1;32m    725\u001b[0m         \u001b[0mmax_queue_size\u001b[0m\u001b[0;34m=\u001b[0m\u001b[0mmax_queue_size\u001b[0m\u001b[0;34m,\u001b[0m\u001b[0;34m\u001b[0m\u001b[0;34m\u001b[0m\u001b[0m\n\u001b[1;32m    726\u001b[0m         \u001b[0mworkers\u001b[0m\u001b[0;34m=\u001b[0m\u001b[0mworkers\u001b[0m\u001b[0;34m,\u001b[0m\u001b[0;34m\u001b[0m\u001b[0;34m\u001b[0m\u001b[0m\n\u001b[0;32m--> 727\u001b[0;31m         use_multiprocessing=use_multiprocessing)\n\u001b[0m\u001b[1;32m    728\u001b[0m \u001b[0;34m\u001b[0m\u001b[0m\n\u001b[1;32m    729\u001b[0m   def evaluate(self,\n",
      "\u001b[0;32m/usr/local/lib/python3.6/dist-packages/tensorflow_core/python/keras/engine/training_arrays.py\u001b[0m in \u001b[0;36mfit\u001b[0;34m(self, model, x, y, batch_size, epochs, verbose, callbacks, validation_split, validation_data, shuffle, class_weight, sample_weight, initial_epoch, steps_per_epoch, validation_steps, validation_freq, **kwargs)\u001b[0m\n\u001b[1;32m    673\u001b[0m         \u001b[0mvalidation_steps\u001b[0m\u001b[0;34m=\u001b[0m\u001b[0mvalidation_steps\u001b[0m\u001b[0;34m,\u001b[0m\u001b[0;34m\u001b[0m\u001b[0;34m\u001b[0m\u001b[0m\n\u001b[1;32m    674\u001b[0m         \u001b[0mvalidation_freq\u001b[0m\u001b[0;34m=\u001b[0m\u001b[0mvalidation_freq\u001b[0m\u001b[0;34m,\u001b[0m\u001b[0;34m\u001b[0m\u001b[0;34m\u001b[0m\u001b[0m\n\u001b[0;32m--> 675\u001b[0;31m         steps_name='steps_per_epoch')\n\u001b[0m\u001b[1;32m    676\u001b[0m \u001b[0;34m\u001b[0m\u001b[0m\n\u001b[1;32m    677\u001b[0m   def evaluate(self,\n",
      "\u001b[0;32m/usr/local/lib/python3.6/dist-packages/tensorflow_core/python/keras/engine/training_arrays.py\u001b[0m in \u001b[0;36mmodel_iteration\u001b[0;34m(model, inputs, targets, sample_weights, batch_size, epochs, verbose, callbacks, val_inputs, val_targets, val_sample_weights, shuffle, initial_epoch, steps_per_epoch, validation_steps, validation_freq, mode, validation_in_fit, prepared_feed_values_from_dataset, steps_name, **kwargs)\u001b[0m\n\u001b[1;32m    392\u001b[0m \u001b[0;34m\u001b[0m\u001b[0m\n\u001b[1;32m    393\u001b[0m         \u001b[0;31m# Get outputs.\u001b[0m\u001b[0;34m\u001b[0m\u001b[0;34m\u001b[0m\u001b[0;34m\u001b[0m\u001b[0m\n\u001b[0;32m--> 394\u001b[0;31m         \u001b[0mbatch_outs\u001b[0m \u001b[0;34m=\u001b[0m \u001b[0mf\u001b[0m\u001b[0;34m(\u001b[0m\u001b[0mins_batch\u001b[0m\u001b[0;34m)\u001b[0m\u001b[0;34m\u001b[0m\u001b[0;34m\u001b[0m\u001b[0m\n\u001b[0m\u001b[1;32m    395\u001b[0m         \u001b[0;32mif\u001b[0m \u001b[0;32mnot\u001b[0m \u001b[0misinstance\u001b[0m\u001b[0;34m(\u001b[0m\u001b[0mbatch_outs\u001b[0m\u001b[0;34m,\u001b[0m \u001b[0mlist\u001b[0m\u001b[0;34m)\u001b[0m\u001b[0;34m:\u001b[0m\u001b[0;34m\u001b[0m\u001b[0;34m\u001b[0m\u001b[0m\n\u001b[1;32m    396\u001b[0m           \u001b[0mbatch_outs\u001b[0m \u001b[0;34m=\u001b[0m \u001b[0;34m[\u001b[0m\u001b[0mbatch_outs\u001b[0m\u001b[0;34m]\u001b[0m\u001b[0;34m\u001b[0m\u001b[0;34m\u001b[0m\u001b[0m\n",
      "\u001b[0;32m/usr/local/lib/python3.6/dist-packages/tensorflow_core/python/keras/backend.py\u001b[0m in \u001b[0;36m__call__\u001b[0;34m(self, inputs)\u001b[0m\n\u001b[1;32m   3474\u001b[0m \u001b[0;34m\u001b[0m\u001b[0m\n\u001b[1;32m   3475\u001b[0m     fetched = self._callable_fn(*array_vals,\n\u001b[0;32m-> 3476\u001b[0;31m                                 run_metadata=self.run_metadata)\n\u001b[0m\u001b[1;32m   3477\u001b[0m     \u001b[0mself\u001b[0m\u001b[0;34m.\u001b[0m\u001b[0m_call_fetch_callbacks\u001b[0m\u001b[0;34m(\u001b[0m\u001b[0mfetched\u001b[0m\u001b[0;34m[\u001b[0m\u001b[0;34m-\u001b[0m\u001b[0mlen\u001b[0m\u001b[0;34m(\u001b[0m\u001b[0mself\u001b[0m\u001b[0;34m.\u001b[0m\u001b[0m_fetches\u001b[0m\u001b[0;34m)\u001b[0m\u001b[0;34m:\u001b[0m\u001b[0;34m]\u001b[0m\u001b[0;34m)\u001b[0m\u001b[0;34m\u001b[0m\u001b[0;34m\u001b[0m\u001b[0m\n\u001b[1;32m   3478\u001b[0m     output_structure = nest.pack_sequence_as(\n",
      "\u001b[0;32m/usr/local/lib/python3.6/dist-packages/tensorflow_core/python/client/session.py\u001b[0m in \u001b[0;36m__call__\u001b[0;34m(self, *args, **kwargs)\u001b[0m\n\u001b[1;32m   1470\u001b[0m         ret = tf_session.TF_SessionRunCallable(self._session._session,\n\u001b[1;32m   1471\u001b[0m                                                \u001b[0mself\u001b[0m\u001b[0;34m.\u001b[0m\u001b[0m_handle\u001b[0m\u001b[0;34m,\u001b[0m \u001b[0margs\u001b[0m\u001b[0;34m,\u001b[0m\u001b[0;34m\u001b[0m\u001b[0;34m\u001b[0m\u001b[0m\n\u001b[0;32m-> 1472\u001b[0;31m                                                run_metadata_ptr)\n\u001b[0m\u001b[1;32m   1473\u001b[0m         \u001b[0;32mif\u001b[0m \u001b[0mrun_metadata\u001b[0m\u001b[0;34m:\u001b[0m\u001b[0;34m\u001b[0m\u001b[0;34m\u001b[0m\u001b[0m\n\u001b[1;32m   1474\u001b[0m           \u001b[0mproto_data\u001b[0m \u001b[0;34m=\u001b[0m \u001b[0mtf_session\u001b[0m\u001b[0;34m.\u001b[0m\u001b[0mTF_GetBuffer\u001b[0m\u001b[0;34m(\u001b[0m\u001b[0mrun_metadata_ptr\u001b[0m\u001b[0;34m)\u001b[0m\u001b[0;34m\u001b[0m\u001b[0;34m\u001b[0m\u001b[0m\n",
      "\u001b[0;31mKeyboardInterrupt\u001b[0m: "
     ]
    }
   ],
   "source": [
    "model.fit(X_train[:], y_train[:], epochs =2, batch_size = 32, validation_data = (X_test, y_test))"
   ]
  },
  {
   "cell_type": "code",
   "execution_count": 0,
   "metadata": {
    "colab": {},
    "colab_type": "code",
    "id": "vSQuarmW3vao"
   },
   "outputs": [],
   "source": [
    "y_pred = model.predict(X_test)"
   ]
  },
  {
   "cell_type": "code",
   "execution_count": 0,
   "metadata": {
    "colab": {},
    "colab_type": "code",
    "id": "EaNEIb-vPjDz"
   },
   "outputs": [],
   "source": [
    "def nplogloss(ytrue, ypreds):\n",
    "  score1 = np.max([5 * np.ones(len(ytrue)), ypreds], axis = 0)\n",
    "  score2 = np.max([5 * np.ones(len(ytrue)), ytrue], axis = 0)\n",
    "  score = np.abs(score1 - score2)\n",
    "  return np.mean(score)\n"
   ]
  },
  {
   "cell_type": "code",
   "execution_count": 62,
   "metadata": {
    "colab": {
     "base_uri": "https://localhost:8080/",
     "height": 34
    },
    "colab_type": "code",
    "executionInfo": {
     "elapsed": 822,
     "status": "ok",
     "timestamp": 1575032520848,
     "user": {
      "displayName": "Pierre Adeikalam",
      "photoUrl": "https://lh5.googleusercontent.com/-ajsLuZ1nxZ0/AAAAAAAAAAI/AAAAAAAAAkg/mDSbWKpnT8s/s64/photo.jpg",
      "userId": "13583412382080420095"
     },
     "user_tz": -60
    },
    "id": "3DX4otBkPk1g",
    "outputId": "dbf8e538-d16a-4e68-99a5-4bb1dedcbf2b"
   },
   "outputs": [
    {
     "data": {
      "text/plain": [
       "(299947, 1)"
      ]
     },
     "execution_count": 62,
     "metadata": {
      "tags": []
     },
     "output_type": "execute_result"
    }
   ],
   "source": [
    "y_pred[:].shape"
   ]
  },
  {
   "cell_type": "code",
   "execution_count": 70,
   "metadata": {
    "colab": {
     "base_uri": "https://localhost:8080/",
     "height": 34
    },
    "colab_type": "code",
    "executionInfo": {
     "elapsed": 874,
     "status": "ok",
     "timestamp": 1575033082008,
     "user": {
      "displayName": "Pierre Adeikalam",
      "photoUrl": "https://lh5.googleusercontent.com/-ajsLuZ1nxZ0/AAAAAAAAAAI/AAAAAAAAAkg/mDSbWKpnT8s/s64/photo.jpg",
      "userId": "13583412382080420095"
     },
     "user_tz": -60
    },
    "id": "h5RAO1p73vaq",
    "outputId": "af3ca43c-4f74-449d-d0f1-4652ab5db6cf"
   },
   "outputs": [
    {
     "data": {
      "text/plain": [
       "0.5379109950925592"
      ]
     },
     "execution_count": 70,
     "metadata": {
      "tags": []
     },
     "output_type": "execute_result"
    }
   ],
   "source": [
    "nplogloss(y_test, y_pred[:,0])"
   ]
  },
  {
   "cell_type": "code",
   "execution_count": 0,
   "metadata": {
    "colab": {},
    "colab_type": "code",
    "id": "co_9teyz3var"
   },
   "outputs": [],
   "source": [
    "from sklearn.metrics import mean_squared_error"
   ]
  },
  {
   "cell_type": "code",
   "execution_count": 0,
   "metadata": {
    "colab": {},
    "colab_type": "code",
    "id": "UG4weeuf3vat",
    "outputId": "47d2f6f1-ad25-4b5f-9870-0da3978dda88"
   },
   "outputs": [
    {
     "data": {
      "text/plain": [
       "2          18.299774\n",
       "16         15.738368\n",
       "19         17.642080\n",
       "24         19.338703\n",
       "30         17.881786\n",
       "             ...    \n",
       "1495914    12.577428\n",
       "1495915    12.724495\n",
       "1495916     9.487221\n",
       "1495917    12.796652\n",
       "1495918    10.468785\n",
       "Name: y, Length: 299947, dtype: float64"
      ]
     },
     "execution_count": 27,
     "metadata": {
      "tags": []
     },
     "output_type": "execute_result"
    }
   ],
   "source": [
    "np.log(np.abs(y_pred - y_test))"
   ]
  },
  {
   "cell_type": "code",
   "execution_count": 0,
   "metadata": {
    "colab": {},
    "colab_type": "code",
    "id": "_aUkQE8m3vav",
    "outputId": "e7b39348-1b73-4d5c-a45a-7bfb4a6d1b15"
   },
   "outputs": [
    {
     "data": {
      "text/plain": [
       "array([99093376.88196306, 99108263.48635395, 99104502.24160202, ...,\n",
       "        1263765.91166013,  1263765.91166013,  1326106.56396625])"
      ]
     },
     "execution_count": 25,
     "metadata": {
      "tags": []
     },
     "output_type": "execute_result"
    }
   ],
   "source": [
    "y_pred"
   ]
  },
  {
   "cell_type": "code",
   "execution_count": 0,
   "metadata": {
    "colab": {},
    "colab_type": "code",
    "id": "9Q1795Iq3vay",
    "outputId": "51762e9a-089a-4872-edad-4355af4625c5"
   },
   "outputs": [
    {
     "data": {
      "text/plain": [
       "99093376.88196306"
      ]
     },
     "execution_count": 32,
     "metadata": {
      "tags": []
     },
     "output_type": "execute_result"
    }
   ],
   "source": [
    "y_pred[0]"
   ]
  },
  {
   "cell_type": "code",
   "execution_count": 0,
   "metadata": {
    "colab": {},
    "colab_type": "code",
    "id": "14E9VneM3va0",
    "outputId": "bbee4a9f-4391-42f9-eb26-1f330a8dd42b"
   },
   "outputs": [
    {
     "data": {
      "text/plain": [
       "10481715.0"
      ]
     },
     "execution_count": 34,
     "metadata": {
      "tags": []
     },
     "output_type": "execute_result"
    }
   ],
   "source": [
    "y_test.to_numpy()[0]"
   ]
  },
  {
   "cell_type": "markdown",
   "metadata": {
    "colab_type": "text",
    "id": "vt6sbjq73va5"
   },
   "source": [
    "# Pyspark\n"
   ]
  },
  {
   "cell_type": "code",
   "execution_count": 0,
   "metadata": {
    "colab": {},
    "colab_type": "code",
    "id": "fyobrs9P3va5"
   },
   "outputs": [],
   "source": [
    "from binascii import crc32\n",
    "def test_set_check(identifier, test_ratio):\n",
    "    return crc32(np.int64(identifier)) & 0xffffffff < test_ratio * 2**32\n",
    "\n",
    "\n",
    "def split_train_test_by_id(data, test_ratio, id_column):\n",
    "    ids = data[id_column]\n",
    "    in_test_set = ids.apply(lambda id_: test_set_check(id_, test_ratio))\n",
    "    return data.loc[~in_test_set], data.loc[in_test_set]\n",
    "\n",
    "\n",
    "\n",
    "X_train, X_test = split_train_test_by_id(X_df, 0.2, 'Legal_ID')\n",
    "#y_train = X_train['y']\n",
    "X_train = X_train.drop(['Legal_ID'], axis = 1)\n",
    "\n",
    "#y_test = X_test['y']\n",
    "X_test = X_test.drop(['Legal_ID'], axis = 1)"
   ]
  },
  {
   "cell_type": "code",
   "execution_count": 0,
   "metadata": {
    "colab": {},
    "colab_type": "code",
    "id": "-XpJS0lY3va6"
   },
   "outputs": [],
   "source": [
    "import pyspark as spark\n",
    "from pyspark.sql import SQLContext\n",
    "\n",
    "sc = spark.SparkContext('local[*]')\n",
    "sqlcontext = SQLContext(sc)\n",
    "X_train = sqlcontext.createDataFrame(data = X_train)\n",
    "\n",
    "X_test = sqlcontext.createDataFrame(data = X_test)\n",
    "\n",
    "y_train = sqlcontext.createDataFrame(data = y_train)\n",
    "y_test = sqlcontext.createDataFrame(data = y_train)"
   ]
  },
  {
   "cell_type": "code",
   "execution_count": 0,
   "metadata": {
    "colab": {},
    "colab_type": "code",
    "id": "IX_dYM_t3va8"
   },
   "outputs": [],
   "source": [
    "X_test = sqlcontext.createDataFrame(data = X_test)\n",
    "\n",
    "y_train = sqlcontext.createDataFrame(data = y_train)\n",
    "y_test = sqlcontext.createDataFrame(data = y_train)"
   ]
  },
  {
   "cell_type": "code",
   "execution_count": 0,
   "metadata": {
    "colab": {},
    "colab_type": "code",
    "id": "g4iDlL_83va-"
   },
   "outputs": [],
   "source": [
    "from pyspark.ml.regression import LinearRegression\n",
    "\n",
    "lr = LinearRegression(featuresCol = 'features', labelCol='MV', maxIter=10, regParam=0.3, elasticNetParam=0.8)\n",
    "lr_model = lr.fit(train_df)"
   ]
  }
 ],
 "metadata": {
  "accelerator": "GPU",
  "colab": {
   "machine_shape": "hm",
   "name": "datacamp.ipynb",
   "provenance": [],
   "toc_visible": true
  },
  "hide_input": false,
  "kernelspec": {
   "display_name": "Python 3",
   "language": "python",
   "name": "python3"
  },
  "language_info": {
   "codemirror_mode": {
    "name": "ipython",
    "version": 3
   },
   "file_extension": ".py",
   "mimetype": "text/x-python",
   "name": "python",
   "nbconvert_exporter": "python",
   "pygments_lexer": "ipython3",
   "version": "3.7.3"
  }
 },
 "nbformat": 4,
 "nbformat_minor": 1
}
