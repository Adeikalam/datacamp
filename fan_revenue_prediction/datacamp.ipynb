{
 "cells": [
  {
   "cell_type": "code",
   "execution_count": 0,
   "metadata": {
    "colab": {},
    "colab_type": "code",
    "id": "KW9g-Yb83vZu"
   },
   "outputs": [],
   "source": [
    "!pip install --upgrade pip\n",
    "!pip install category_encoders\n",
    "!pip install unidecode\n",
    "!pip install https://api.github.com/repos/paris-saclay-cds/ramp-workflow/zipball/master\n",
    "!pip install optuna\n",
    "!pip install --upgrade scikit_learn\n"
   ]
  },
  {
   "cell_type": "code",
   "execution_count": 1,
   "metadata": {
    "colab": {},
    "colab_type": "code",
    "id": "JM8vIvME4FG0"
   },
   "outputs": [],
   "source": [
    "import os\n",
    "%matplotlib inline\n",
    "import time\n",
    "import imp\n",
    "import pandas as pd\n",
    "import numpy as np\n",
    "from matplotlib import pyplot as plt\n",
    "import seaborn\n",
    "import unidecode"
   ]
  },
  {
   "cell_type": "code",
   "execution_count": 2,
   "metadata": {
    "colab": {},
    "colab_type": "code",
    "id": "dhTfpj6f3vZy"
   },
   "outputs": [],
   "source": [
    "from problem import get_train_data\n",
    "\n",
    "X_df, y_array = get_train_data()"
   ]
  },
  {
   "cell_type": "markdown",
   "metadata": {
    "colab_type": "text",
    "id": "cQ9fRgLH3vZ5"
   },
   "source": [
    "# Preprocessing Pipeline"
   ]
  },
  {
   "cell_type": "markdown",
   "metadata": {
    "colab_type": "text",
    "id": "eGRFCOCR3vZ6"
   },
   "source": [
    "# Imputing missing values of X_df"
   ]
  },
  {
   "cell_type": "code",
   "execution_count": 5,
   "metadata": {
    "colab": {},
    "colab_type": "code",
    "id": "SUP4NA_n1j-H"
   },
   "outputs": [],
   "source": [
    "# some parameters\n",
    "\n",
    "ape_code_length = 4"
   ]
  },
  {
   "cell_type": "code",
   "execution_count": 6,
   "metadata": {
    "code_folding": [],
    "colab": {},
    "colab_type": "code",
    "id": "s1WPRk_o3vZ6"
   },
   "outputs": [],
   "source": [
    "# keeping first 2 numbers of APE\n",
    "t = time.time()\n",
    "X_df['Activity_code (APE)'] = X_df['Activity_code (APE)'].fillna(value = '000').astype('str').apply(lambda x: x[:ape_code_length])\n",
    "\n",
    "# infer zipcode from city\n",
    "\n",
    "if(True):\n",
    "    X_df['Zipcode'] = X_df['Zipcode'].astype('str').apply(lambda x: x[:2])\n",
    "    city_names = X_df[['Zipcode', 'City']].groupby('Zipcode').City.apply(list).values\n",
    "    zipcodes = X_df[['Zipcode', 'City']].groupby('Zipcode').City.apply(list).index\n",
    "    zip_dict = {zipcode:list(set(cities)) for zipcode,cities in zip(zipcodes, city_names)}\n",
    "    \n",
    "    #remove nans from city lists\n",
    "    \n",
    "    for key in zip_dict.keys():\n",
    "        for i, city in enumerate(zip_dict[key]):\n",
    "            if type(city) != type('a string'):\n",
    "                zip_dict[key].pop(i)\n",
    "           \n",
    "    # infer zip by checking lists\n",
    "    \n",
    "    def infer_zip(city):\n",
    "        for key in zip_dict:\n",
    "            if city in zip_dict[key]:\n",
    "                return key\n",
    "    \n",
    "    X_df.loc[X_df['Zipcode'] == 'na', 'Zipcode'] = X_df.loc[X_df['Zipcode'] == 'na', 'City'].apply(infer_zip)\n",
    "    X_df.loc[X_df['Zipcode'] == 'na', 'Zipcode'] = '00'\n",
    "    X_df['Zipcode'] = X_df['Zipcode'].fillna('00')\n",
    "    \n",
    "# fill name and lower\n",
    "\n",
    "X_df['Name'] = X_df['Name'].fillna('nan').str.lower().astype('str').apply(unidecode.unidecode)\n",
    "\n",
    "# Fill headcounts\n",
    "\n",
    "if(True):\n",
    "    headcounts = X_df[['Name', 'Headcount']].groupby('Name').mean().fillna(0).to_dict()['Headcount']\n",
    "    names = X_df['Name'].values\n",
    "    heads = np.zeros(len(names))\n",
    "\n",
    "    for i,name in enumerate(names):\n",
    "        if type(name) == type('a string'):\n",
    "            heads[i] = headcounts[name]\n",
    "\n",
    "    X_df['Headcount'] = heads\n",
    "\n",
    "# unicode and lower\n",
    "\n",
    "X_df['City'] = X_df['City'].fillna('nan').str.lower().apply(unidecode.unidecode)\n",
    "\n",
    "# Drop Address"
   ]
  },
  {
   "cell_type": "markdown",
   "metadata": {
    "colab_type": "text",
    "id": "Graj-ZAn3vZ9"
   },
   "source": [
    "# X_df no longer has NAs"
   ]
  },
  {
   "cell_type": "code",
   "execution_count": 8,
   "metadata": {
    "colab": {
     "base_uri": "https://localhost:8080/",
     "height": 88
    },
    "colab_type": "code",
    "executionInfo": {
     "elapsed": 130406,
     "status": "ok",
     "timestamp": 1575060672709,
     "user": {
      "displayName": "Pierre Adeikalam",
      "photoUrl": "https://lh5.googleusercontent.com/-ajsLuZ1nxZ0/AAAAAAAAAAI/AAAAAAAAAkg/mDSbWKpnT8s/s64/photo.jpg",
      "userId": "13583412382080420095"
     },
     "user_tz": -60
    },
    "id": "ej_bwYvt3vZ_",
    "outputId": "df83bb46-546d-4051-a900-bb9a216b7525"
   },
   "outputs": [
    {
     "name": "stderr",
     "output_type": "stream",
     "text": [
      "C:\\Users\\adeik\\Anaconda3\\lib\\site-packages\\IPython\\core\\interactiveshell.py:3058: DtypeWarning: Columns (4,12) have mixed types. Specify dtype option on import or set low_memory=False.\n",
      "  interactivity=interactivity, compiler=compiler, result=result)\n"
     ]
    },
    {
     "name": "stdout",
     "output_type": "stream",
     "text": [
      "(304098, 28)\n"
     ]
    }
   ],
   "source": [
    "award = pd.read_csv('data/award_notices_RAMP.csv.zip', compression='zip')\n",
    "\n",
    "city_list = [unidecode.unidecode(i.lower()) for i in list(set(X_df['City'].values))]\n",
    "\n",
    "def cedex_remover(s):\n",
    "    s = s.replace('-', ' ').replace(',', ' ')\n",
    "    tokens = s.split(' ')\n",
    "    for k in range(len(tokens)):\n",
    "        for j in range(1, len(tokens)-k + 1):\n",
    "            if ' '.join(tokens[k:k+j]) in city_list:\n",
    "                return ' '.join(tokens[k:k+j])\n",
    "    return None\n",
    "\n",
    "award.head(3)\n",
    "\n",
    "print(award.shape)\n",
    "\n",
    "# unidecode incumbent_name and lower\n",
    "\n",
    "award['incumbent_name'] = award['incumbent_name'].str.lower().astype('str').apply(unidecode.unidecode)\n",
    "\n",
    "# preprocess incumbent_city and fill nans\n",
    "award['incumbent_city'] = award['incumbent_city'].str.lower().astype('str').apply(unidecode.unidecode).apply(cedex_remover).fillna('nan')\n",
    "\n",
    "\n",
    "# Remove NA in department of provision and keep first 2\n",
    "award = award[award['Departments_of_publication'].notna()]\n",
    "award['Departments_of_publication'] = award['Departments_of_publication'].astype('str').apply(lambda x: x.split(',')[0][:2])\n"
   ]
  },
  {
   "cell_type": "code",
   "execution_count": 9,
   "metadata": {
    "code_folding": [],
    "colab": {},
    "colab_type": "code",
    "id": "eIUt7YE_3vaC"
   },
   "outputs": [],
   "source": [
    "# city mean FAN\n",
    "\n",
    "city_mean_fan = award[['incumbent_city','amount']].groupby('incumbent_city').quantile(0.5).fillna(0).to_dict()['amount']\n",
    "\n",
    "city_lower_mean = award[['incumbent_city','amount']].groupby('incumbent_city').quantile(0.25).fillna(0).to_dict()['amount']\n",
    "city_higher_mean = award[['incumbent_city','amount']].groupby('incumbent_city').quantile(0.75).fillna(0).to_dict()['amount']"
   ]
  },
  {
   "cell_type": "code",
   "execution_count": 10,
   "metadata": {
    "code_folding": [],
    "colab": {},
    "colab_type": "code",
    "id": "H2nhXB3d3vaE"
   },
   "outputs": [],
   "source": [
    "# zip mean FAN\n",
    "\n",
    "zip_mean_fan = award[['Departments_of_publication','amount']].groupby('Departments_of_publication').quantile(0.5).fillna(0).to_dict()['amount']\n",
    "\n",
    "zip_lower_mean = award[['Departments_of_publication','amount']].groupby('Departments_of_publication').quantile(0.25).fillna(0).to_dict()['amount']\n",
    "zip_higher_mean = award[['Departments_of_publication','amount']].groupby('Departments_of_publication').quantile(0.75).fillna(0).to_dict()['amount']"
   ]
  },
  {
   "cell_type": "code",
   "execution_count": 11,
   "metadata": {
    "code_folding": [],
    "colab": {
     "base_uri": "https://localhost:8080/",
     "height": 139
    },
    "colab_type": "code",
    "executionInfo": {
     "elapsed": 176737,
     "status": "ok",
     "timestamp": 1575060719507,
     "user": {
      "displayName": "Pierre Adeikalam",
      "photoUrl": "https://lh5.googleusercontent.com/-ajsLuZ1nxZ0/AAAAAAAAAAI/AAAAAAAAAkg/mDSbWKpnT8s/s64/photo.jpg",
      "userId": "13583412382080420095"
     },
     "user_tz": -60
    },
    "id": "uuU6-2ot3vaF",
    "outputId": "5712721d-18f1-4a8e-b688-ca1658aff723"
   },
   "outputs": [
    {
     "name": "stderr",
     "output_type": "stream",
     "text": [
      "C:\\Users\\adeik\\Anaconda3\\lib\\site-packages\\ipykernel_launcher.py:12: SettingWithCopyWarning: \n",
      "A value is trying to be set on a copy of a slice from a DataFrame.\n",
      "Try using .loc[row_indexer,col_indexer] = value instead\n",
      "\n",
      "See the caveats in the documentation: http://pandas.pydata.org/pandas-docs/stable/user_guide/indexing.html#returning-a-view-versus-a-copy\n",
      "  if sys.path[0] == '':\n"
     ]
    }
   ],
   "source": [
    "# APE mean FAN\n",
    "company_list = [unidecode.unidecode(str(i).lower()) for i in list(set(X_df['Name'].values))]\n",
    "\n",
    "company_awards = award[award['incumbent_name'].isin(company_list)]\n",
    "\n",
    "ape_companies = X_df[['Name', 'Activity_code (APE)']].groupby('Name')['Activity_code (APE)'].apply(lambda x: list(x)[0])\n",
    "ape_companies.index = ape_companies.index.str.lower()\n",
    "ape_companies = ape_companies.to_dict()\n",
    "\n",
    "def infer_ape(name):\n",
    "    return ape_companies[name]\n",
    "company_awards['APE'] = company_awards['incumbent_name'].apply(infer_ape)\n",
    "\n",
    "ape_mean_fan = company_awards[['APE','amount']].groupby('APE').quantile(0.5).fillna(0).to_dict()['amount']\n",
    "ape_lower_mean = company_awards[['APE','amount']].groupby('APE').quantile(0.25).fillna(0).to_dict()['amount']\n",
    "ape_higher_mean = company_awards[['APE','amount']].groupby('APE').quantile(0.75).fillna(0).to_dict()['amount']"
   ]
  },
  {
   "cell_type": "code",
   "execution_count": 12,
   "metadata": {
    "code_folding": [],
    "colab": {},
    "colab_type": "code",
    "id": "j0_Rb6Td3vaH"
   },
   "outputs": [],
   "source": [
    "# Actual FAN revenue\n",
    "\n",
    "fan_revenue = company_awards[['incumbent_name','amount']].groupby('incumbent_name').sum().fillna(0).to_dict()['amount']\n"
   ]
  },
  {
   "cell_type": "code",
   "execution_count": 13,
   "metadata": {
    "code_folding": [
     31
    ],
    "colab": {},
    "colab_type": "code",
    "id": "B1rHTHTu3vaJ"
   },
   "outputs": [],
   "source": [
    "# Insert features into X_df\n",
    "\n",
    "# Ape FAN\n",
    "if(True):\n",
    "    def infer_ape_fan(APE):\n",
    "        try:\n",
    "            return np.log10(ape_mean_fan[APE] + 1)\n",
    "        except:\n",
    "            return 0\n",
    "\n",
    "    def infer_low_ape_fan(APE):\n",
    "        try:\n",
    "            return np.log10(ape_lower_mean[APE] + 1)\n",
    "        except:\n",
    "            return 0\n",
    "\n",
    "    def infer_high_ape_fan(APE):\n",
    "        try:\n",
    "            return np.log10(ape_higher_mean[APE] + 1)\n",
    "        except:\n",
    "            return 0\n",
    "\n",
    "\n",
    "\n",
    "    X_df['APE_fan_0.5'] = X_df['Activity_code (APE)'].apply(infer_ape_fan)\n",
    "    X_df['APE_fan_0.25'] = X_df['Activity_code (APE)'].apply(infer_low_ape_fan)\n",
    "    X_df['APE_fan_0.75'] = X_df['Activity_code (APE)'].apply(infer_high_ape_fan)\n",
    "\n",
    "# City FAN\n",
    "if(True):\n",
    "\n",
    "    def infer_city_fan(city):\n",
    "        try:\n",
    "            return np.log10(city_mean_fan[city] + 1)\n",
    "        except:\n",
    "            return 0\n",
    "\n",
    "    def infer_low_city_fan(city):\n",
    "        try:\n",
    "            return np.log10(city_lower_mean[city] + 1)\n",
    "        except:\n",
    "            return 0\n",
    "\n",
    "    def infer_high_city_fan(city):\n",
    "        try:\n",
    "            return np.log10(city_higher_mean[city] + 1)\n",
    "        except:\n",
    "            return 0\n",
    "\n",
    "\n",
    "    X_df['city_fan_0.5'] = X_df['City'].apply(infer_city_fan)\n",
    "    X_df['city_fan_0.25'] = X_df['City'].apply(infer_low_city_fan)\n",
    "    X_df['city_fan_0.75'] = X_df['City'].apply(infer_high_city_fan)\n",
    "\n",
    "# Zip_fan\n",
    "if(True):\n",
    "    def infer_zip_fan(zipcode):\n",
    "        try:\n",
    "            return np.log10(zip_mean_fan[zipcode] + 1)\n",
    "        except:\n",
    "            return 0\n",
    "\n",
    "    def infer_low_zip_fan(zipcode):\n",
    "        try:\n",
    "            return np.log10(zip_lower_mean[zipcode] + 1)\n",
    "        except:\n",
    "            return 0\n",
    "\n",
    "    def infer_high_zip_fan(zipcode):\n",
    "        try:\n",
    "            return np.log10(zip_higher_mean[zipcode] + 1)\n",
    "        except:\n",
    "            return 0\n",
    "\n",
    "    X_df['zip_fan_0.5'] = X_df['Zipcode'].apply(infer_zip_fan)\n",
    "    X_df['zip_fan_0.25'] = X_df['Zipcode'].apply(infer_low_zip_fan)\n",
    "    X_df['zip_fan_0.75'] = X_df['Zipcode'].apply(infer_high_zip_fan)\n",
    "\n",
    "# Actual FAN\n",
    "if(True):\n",
    "    def infer_fan(name):\n",
    "        try:\n",
    "            return np.log10(fan_revenue[name] + 1)\n",
    "        except:\n",
    "            return 0\n",
    "\n",
    "    X_df['FAN'] = X_df['Name'].apply(infer_fan)\n"
   ]
  },
  {
   "cell_type": "code",
   "execution_count": 14,
   "metadata": {
    "colab": {
     "base_uri": "https://localhost:8080/",
     "height": 34
    },
    "colab_type": "code",
    "executionInfo": {
     "elapsed": 48871,
     "status": "ok",
     "timestamp": 1575062228198,
     "user": {
      "displayName": "Pierre Adeikalam",
      "photoUrl": "https://lh5.googleusercontent.com/-ajsLuZ1nxZ0/AAAAAAAAAAI/AAAAAAAAAkg/mDSbWKpnT8s/s64/photo.jpg",
      "userId": "13583412382080420095"
     },
     "user_tz": -60
    },
    "id": "VK7jF1ry3vaL",
    "outputId": "c8bad0ce-2239-42bc-a41a-306ed16e490d"
   },
   "outputs": [
    {
     "data": {
      "text/plain": [
       "358.44975066185"
      ]
     },
     "execution_count": 14,
     "metadata": {},
     "output_type": "execute_result"
    }
   ],
   "source": [
    "time.time() - t"
   ]
  },
  {
   "cell_type": "code",
   "execution_count": 15,
   "metadata": {
    "colab": {},
    "colab_type": "code",
    "id": "obj0cMyv3vaP"
   },
   "outputs": [],
   "source": [
    "to_dummy = ['Activity_code (APE)', 'Zipcode', 'Year', 'City', 'Fiscal_year_end_date']\n",
    "to_drop = ['Name', 'Address']\n",
    "\n",
    "\n",
    "X_df = X_df.drop(to_drop, axis = 1)\n",
    "X_df['y'] = y_array"
   ]
  },
  {
   "cell_type": "code",
   "execution_count": 16,
   "metadata": {
    "colab": {},
    "colab_type": "code",
    "id": "iufL2JeA3vaS"
   },
   "outputs": [],
   "source": [
    "from binascii import crc32\n",
    "def test_set_check(identifier, test_ratio):\n",
    "    return crc32(np.int64(identifier)) & 0xffffffff < test_ratio * 2**32\n",
    "\n",
    "\n",
    "def split_train_test_by_id(data, test_ratio, id_column):\n",
    "    ids = data[id_column]\n",
    "    in_test_set = ids.apply(lambda id_: test_set_check(id_, test_ratio))\n",
    "    return data.loc[~in_test_set], data.loc[in_test_set]\n",
    "\n",
    "\n",
    "\n",
    "X_train, X_test = split_train_test_by_id(X_df, 0.2, 'Legal_ID')\n",
    "y_train = np.log10(np.max(np.array([X_train['y'], np.ones(X_train.shape[0])]), axis = 0))\n",
    "X_train = X_train.drop(['Legal_ID', 'y'], axis = 1)\n",
    "\n",
    "y_test = np.log10(np.max(np.array([X_test['y'], np.ones(X_test.shape[0])]), axis = 0))\n",
    "X_test = X_test.drop(['Legal_ID', 'y'], axis = 1)"
   ]
  },
  {
   "cell_type": "code",
   "execution_count": 17,
   "metadata": {
    "colab": {},
    "colab_type": "code",
    "id": "L4CrfjmP3vaU"
   },
   "outputs": [],
   "source": [
    "from sklearn.linear_model import LinearRegression\n",
    "from sklearn.svm import SVR\n",
    "from sklearn.preprocessing import PolynomialFeatures, OneHotEncoder, StandardScaler, OrdinalEncoder\n",
    "from sklearn.linear_model import Lasso\n",
    "from sklearn.experimental import enable_hist_gradient_boosting\n",
    "from sklearn.ensemble import HistGradientBoostingRegressor\n",
    "from sklearn.model_selection import GridSearchCV\n",
    "import category_encoders as ce"
   ]
  },
  {
   "cell_type": "code",
   "execution_count": 18,
   "metadata": {
    "colab": {},
    "colab_type": "code",
    "id": "JPEWxkeB3vaW"
   },
   "outputs": [],
   "source": [
    "from scipy import sparse\n",
    "\n",
    "count_enc = ce.CountEncoder()\n",
    "scaler = StandardScaler()\n",
    "\n",
    "\n",
    "cat = X_train[to_dummy]\n",
    "num = X_train.drop(to_dummy, axis = 1)\n",
    "\n",
    "num_columns = num.columns\n",
    "num = scaler.fit_transform(num)\n",
    "cat = count_enc.fit_transform(cat)\n",
    "\n",
    "X_train = np.concatenate([num, cat], axis = 1)\n",
    "\n",
    "\n",
    "cat = X_test[to_dummy]\n",
    "num = X_test.drop(to_dummy, axis = 1)\n",
    "\n",
    "num = scaler.transform(num)\n",
    "cat = count_enc.transform(cat)\n",
    "\n",
    "X_test = np.concatenate([num, cat.fillna(0)], axis = 1)\n",
    "\n",
    "\n",
    "#poly = PolynomialFeatures(degree = 2)\n",
    "\n",
    "#X_train = poly.fit_transform(X_train)\n",
    "\n",
    "#X_test = X_test.to_numpy()\n",
    "#X_test = scaler.transform(X_test)\n",
    "#X_test = poly.transform(X_test)\n"
   ]
  },
  {
   "cell_type": "code",
   "execution_count": 21,
   "metadata": {
    "colab": {},
    "colab_type": "code",
    "id": "eYm72j_nVGHr"
   },
   "outputs": [],
   "source": [
    "def nplogloss(ytrue, ypreds, **kwargs):\n",
    "    score1 = np.max([5 * np.ones(len(ytrue)), ypreds], axis = 0)\n",
    "    score2 = np.max([5 * np.ones(len(ytrue)), ytrue], axis = 0)\n",
    "    score = np.abs(score1 - score2)\n",
    "    return np.mean(score)"
   ]
  },
  {
   "cell_type": "code",
   "execution_count": null,
   "metadata": {
    "colab": {
     "base_uri": "https://localhost:8080/",
     "height": 238
    },
    "colab_type": "code",
    "executionInfo": {
     "elapsed": 536704,
     "status": "ok",
     "timestamp": 1575045746692,
     "user": {
      "displayName": "Pierre Adeikalam",
      "photoUrl": "https://lh5.googleusercontent.com/-ajsLuZ1nxZ0/AAAAAAAAAAI/AAAAAAAAAkg/mDSbWKpnT8s/s64/photo.jpg",
      "userId": "13583412382080420095"
     },
     "user_tz": -60
    },
    "id": "K4VzpwTIn4Bx",
    "outputId": "89e801fb-e276-4896-850d-715ca4c7249b"
   },
   "outputs": [
    {
     "name": "stdout",
     "output_type": "stream",
     "text": [
      "1\n",
      "2\n",
      "3\n",
      "4\n",
      "5\n",
      "6\n",
      "7\n",
      "8\n",
      "9\n",
      "10\n",
      "11\n",
      "12\n",
      "13\n",
      "14\n",
      "15\n",
      "16\n",
      "17\n",
      "18\n",
      "19\n",
      "20\n",
      "21\n",
      "22\n",
      "23\n",
      "24\n",
      "25\n",
      "26\n",
      "27\n",
      "28\n",
      "29\n",
      "30\n",
      "31\n",
      "32\n",
      "33\n",
      "34\n",
      "35\n",
      "36\n",
      "37\n",
      "38\n",
      "39\n"
     ]
    }
   ],
   "source": [
    "t = time.time()\n",
    "import optuna\n",
    "from sklearn.model_selection import cross_val_score\n",
    "\n",
    "param_grid = {'max_depth': 189, 'max_iter': 262, 'max_leaf_nodes': 277, 'min_samples_leaf': 1133}\n",
    "\n",
    "count = 0\n",
    "def objective(trial):\n",
    "    max_depth = trial.suggest_int('max_depth', 150, 500)\n",
    "    learning_rate = trial.suggest_loguniform('learning_rate', 10**-3, 10**0)\n",
    "    max_iter = trial.suggest_int('max_iter', 200, 500)\n",
    "    max_leaf_nodes = trial.suggest_int('max_leaf_nodes', 200, 500)\n",
    "    min_samples_leaf = trial.suggest_int('min_samples_leaf', 600, 1200)\n",
    "\n",
    "    reg = HistGradientBoostingRegressor(\n",
    "        max_depth=max_depth,\n",
    "        max_iter = max_iter,\n",
    "        learning_rate = learning_rate,\n",
    "        max_leaf_nodes=max_leaf_nodes,\n",
    "        min_samples_leaf=min_samples_leaf)\n",
    "    \n",
    "    reg.fit(X_train, y_train)\n",
    "    global count\n",
    "    count += 1\n",
    "    print(count)\n",
    "    \n",
    "    y_pred = reg.predict(X_test)\n",
    "    return nplogloss(y_test, y_pred)\n",
    "\n",
    "study = optuna.create_study(direction='minimize')\n",
    "optuna.logging.disable_default_handler()  # limit verbosity\n",
    "study.optimize(objective, n_trials=100)\n",
    "\n",
    "# Show best result\n",
    "print(time.time() - t)\n",
    "print(study.best_trial.params)\n",
    "print(study.best_trial.value)"
   ]
  },
  {
   "cell_type": "code",
   "execution_count": 136,
   "metadata": {
    "colab": {
     "base_uri": "https://localhost:8080/",
     "height": 282
    },
    "colab_type": "code",
    "executionInfo": {
     "elapsed": 1519,
     "status": "ok",
     "timestamp": 1575046545543,
     "user": {
      "displayName": "Pierre Adeikalam",
      "photoUrl": "https://lh5.googleusercontent.com/-ajsLuZ1nxZ0/AAAAAAAAAAI/AAAAAAAAAkg/mDSbWKpnT8s/s64/photo.jpg",
      "userId": "13583412382080420095"
     },
     "user_tz": -60
    },
    "id": "70hmeAEmt4QU",
    "outputId": "2dd4f4fa-0b34-46f9-922e-c43029dbf029"
   },
   "outputs": [
    {
     "data": {
      "text/plain": [
       "[<matplotlib.lines.Line2D at 0x7f36f7731dd8>]"
      ]
     },
     "execution_count": 136,
     "metadata": {
      "tags": []
     },
     "output_type": "execute_result"
    },
    {
     "data": {
      "image/png": "[encoded data removed]",
      "text/plain": [
       "<Figure size 432x288 with 1 Axes>"
      ]
     },
     "metadata": {
      "tags": []
     },
     "output_type": "display_data"
    }
   ],
   "source": [
    "values = [t.value for t in study.trials]\n",
    "plt.plot(values)"
   ]
  }
 ],
 "metadata": {
  "accelerator": "GPU",
  "colab": {
   "machine_shape": "hm",
   "name": "datacamp.ipynb",
   "provenance": [],
   "toc_visible": true
  },
  "hide_input": false,
  "kernelspec": {
   "display_name": "Python 3",
   "language": "python",
   "name": "python3"
  },
  "language_info": {
   "codemirror_mode": {
    "name": "ipython",
    "version": 3
   },
   "file_extension": ".py",
   "mimetype": "text/x-python",
   "name": "python",
   "nbconvert_exporter": "python",
   "pygments_lexer": "ipython3",
   "version": "3.7.3"
  }
 },
 "nbformat": 4,
 "nbformat_minor": 1
}
